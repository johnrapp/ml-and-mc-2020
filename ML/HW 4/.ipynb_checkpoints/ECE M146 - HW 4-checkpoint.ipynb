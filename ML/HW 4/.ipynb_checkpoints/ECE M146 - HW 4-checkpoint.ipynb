{
 "cells": [
  {
   "cell_type": "markdown",
   "metadata": {},
   "source": [
    "John Rapp Farnes | 405461225\n",
    "\n",
    "#\n",
    "\n",
    "## (a), (b)"
   ]
  },
  {
   "cell_type": "code",
   "execution_count": 1,
   "metadata": {},
   "outputs": [],
   "source": [
    "import pandas as pd\n",
    "import numpy as np\n",
    "import matplotlib.pyplot as plt\n",
    "from scipy.stats import mode\n",
    "from sklearn.metrics import accuracy_score\n",
    "\n",
    "filenames = [\"dataTesting_X.csv\", \"dataTesting_Y.csv\", \"dataTraining_X.csv\", \"dataTraining_Y.csv\"]\n",
    "\n",
    "testing_x, testing_y, training_x, training_y = list(map(lambda f : pd.read_csv(f, header=None), filenames))"
   ]
  },
  {
   "cell_type": "code",
   "execution_count": 2,
   "metadata": {},
   "outputs": [],
   "source": [
    "training_y = training_y[0].to_numpy()\n",
    "testing_y = testing_y[0].to_numpy()\n",
    "\n",
    "training_x = training_x.to_numpy()\n",
    "testing_x = testing_x.to_numpy()"
   ]
  },
  {
   "cell_type": "code",
   "execution_count": 3,
   "metadata": {},
   "outputs": [],
   "source": [
    "def squared_dist(x, y):\n",
    "    d = x - y\n",
    "    return np.dot(d, d)\n",
    "\n",
    "def find_k_min_indices(X, k):\n",
    "    return np.argpartition(X, k)[:k]\n",
    "\n",
    "def find_most_common(min_ys):\n",
    "    frac_of_1 = sum(min_ys == 1) / len(min_ys)\n",
    "    \n",
    "    if frac_of_1 == 0.5: return None, False\n",
    "    else:\n",
    "        return (1 if frac_of_1 > 0.5 else 0), True\n",
    "\n",
    "def break_odd_tie(min_indices, dists, min_ys):\n",
    "    min_dists = [dists[i] for i in min_indices]\n",
    "    closest_dist = np.min(min_dists)\n",
    "    \n",
    "    indices_with_closest_dist = np.flatnonzero(min_dists[i] == closest_dist)\n",
    "    return min_ys[np.min(indices_with_closest_dist)]\n",
    "\n",
    "def knn_classifier(x, k, training_x, training_y, y_tie):\n",
    "    dists = [squared_dist(x, x_t) for x_t in training_x]\n",
    "        \n",
    "    min_indices = find_k_min_indices(dists, k)\n",
    "    min_ys = training_y[min_indices]\n",
    "\n",
    "    most_common, has_dominant_value = find_most_common(min_ys)\n",
    "    \n",
    "    if has_dominant_value:\n",
    "        return most_common\n",
    "    else:\n",
    "        even = k % 2 == 0\n",
    "        return y_tie if even else break_odd_tie(min_indices, dists, min_ys)\n",
    "\n",
    "def pred_y(X, k, y_tie):\n",
    "    return [knn_classifier(x, k, training_x, training_y, y_tie) for x in X]"
   ]
  },
  {
   "cell_type": "code",
   "execution_count": 4,
   "metadata": {},
   "outputs": [
    {
     "data": {
      "image/png": "[encoded data removed]",
      "text/plain": [
       "<Figure size 432x288 with 1 Axes>"
      ]
     },
     "metadata": {
      "needs_background": "light"
     },
     "output_type": "display_data"
    }
   ],
   "source": [
    "for y_tie in [1, 0]:\n",
    "    training_err = []\n",
    "    testing_err = []\n",
    "    ks = range(1, 16)\n",
    "    for k in ks:\n",
    "        training_err.append(1 - accuracy_score(training_y, pred_y(training_x, k, y_tie)))\n",
    "        testing_err.append(1 - accuracy_score(testing_y, pred_y(testing_x, k, y_tie)))\n",
    "    \n",
    "    col = 'red' if y_tie == 1 else 'blue'\n",
    "    plt.plot(ks, training_err, linestyle = 'dashed', label=f'Training, y_tie={y_tie}', color = col)\n",
    "    plt.plot(ks, testing_err, label = f'Testing, y_tie={y_tie}', color = col)\n",
    "    \n",
    "plt.title(\"k-NN error for different k and y_tie for training and testing set\")\n",
    "plt.legend()\n",
    "plt.show()"
   ]
  },
  {
   "cell_type": "markdown",
   "metadata": {},
   "source": [
    "## (c)\n",
    "\n",
    "In (a) and (b), I have used $1-\\text{accuracy}$ to serve as the error, i.e. the percentage of points that were missclassified.\n",
    "\n",
    "We can see that even for $k=1$ on the training set there is an error $\\ne 0$, which might be counter intuitive as this classifier \"knows\"about the tested points already and seeming directly compares to them. This effect is due to there sometimes being duplicate $x$ values, with different labels that may be picked because they have a lower index. In general we can see that the classifier has a lower error on training data than testing data which is intuitive as it already knows of those examples. For the training data, the error increases as $k$ increases, which can be explained by there being a higher chance that a point other than the original point for the tested example is picked for the label as it \"competes\" with other points. When $y_{\\text{tie}}=0$, there is a slightly lower error for even $k$, this is because of the bias in the data where there are more points labeled 0 than 1, making 0 a better \"guess\" than 1. Hence, the opposite is true for $y_{\\text{tie}}=1$ on the training data.\n",
    "\n",
    "Looking at the testing data, the lowest error is acheived for $k=6$ and $y_{\\text{tie}}=0$. In general, even $k$ have a higher error than neighboring uneven $k$ when $y_{\\text{tie}}=1$ and lower when $y_{\\text{tie}}=0$. This can be explained by the bias in the data as described above. This implies that an even $k$ with the majority class as $y_{\\text{tie}}$ may be beneficial if there is such bias in the data. In general, $k$ increasing tend to decrease the error to a certain point (in this example between 5 and 7), after which it starts increasing again. The reason for small $k$, e.g. $k=1$ or $k=3$ not being as accurate as slightly higher $k$ is likely because of noise in the data, where very similar kinds of passengers happend to survive or not by chance. This effect is \"averaged out\" or \"smoothed\" with a higher $k$.\n",
    "\n",
    "Overall, the best classifier manages to correctly classify >80% of points in the test data, far greater than the most simple \"majority class\" classifier."
   ]
  },
  {
   "attachments": {},
   "cell_type": "markdown",
   "metadata": {},
   "source": [
    "#\n",
    "\n",
    "## (a)\n",
    "\n",
    "### Example 1\n",
    "\n",
    "#### $k=1$\n",
    "Only the following marked points are correctly classified, while the rest are missclassified, as there are points of the other class closer to the points left out.\n",
    "![e1k1](e1k1.png)\n",
    "\n",
    "As such, the cross-validation error is $\\frac{10}{14}$.\n",
    "\n",
    "#### $k=3$\n",
    "The result is improved, as four more points are correctly classified (marked in blue):\n",
    "![e1k1](e1k2.png)\n",
    "\n",
    "This time, the cross-validation error is $\\frac{6}{14}$.\n",
    "\n",
    "#### $k \\ge 5$\n",
    "\n",
    "Two additional points are correctly classified (marked in black):\n",
    "![e1k1](e1k3.png)\n",
    "\n",
    "The minority data points are still missclassified.\n",
    "The cross-validation error is $\\frac{4}{14}$, which means $k=5$ and $k=7$ are both optimal for this example.\n",
    "\n",
    "\n",
    "### Example 2\n",
    "\n",
    "#### $k=1$\n",
    "Only the following marked points are missclassified:\n",
    "![e1k1](e2k1.png)\n",
    "\n",
    "As such, the cross-validation error is $\\frac{2}{14}$.\n",
    "\n",
    "#### $k=3$\n",
    "Two additional points are missclassified (marked in blue):\n",
    "![e1k1](e2k2.png)\n",
    "\n",
    "This time, the cross-validation error is $\\frac{4}{14}$.\n",
    "\n",
    "#### $k=5$\n",
    "This time, all the red crosses are missclassified:\n",
    "![e1k1](e2k3.png)\n",
    "\n",
    "As such, the cross-validation error is $\\frac{6}{14}$.\n",
    "\n",
    "#### $k=7$\n",
    "4 additional points (marked in black) are missclassified:\n",
    "![e1k1](e2k4.png)\n",
    "\n",
    "As such, the cross-validation error is $\\frac{10}{14}$.\n",
    "\n",
    "Comparing the cross-validation error of all tested values of $k$, we can see that $k=1$ is optimal in this case, with cross-validation error $\\frac{2}{14}$."
   ]
  },
  {
   "cell_type": "markdown",
   "metadata": {},
   "source": [
    "### (b)\n",
    "In general, too big of a $k$ will assign all points in a cluster of points to the majority class in that cluster, leaving out the \"fine grained\" details. Too small of a $k$ on the other hand might introduce noise, e.g. if some points are misslabeled, leading to overfitting. As seen in (a), the optimal $k$ depend on the structure of the data set.\n",
    "\n",
    "In Figure 1, the cross-validation error for $k=1$ is $\\frac{10}{14}$, while it is $\\frac{4}{14}$ for $k=13$ (see figures in (a), the figure for $k \\ge 5$ also applies to $k=13$). For $k=1$, \"overfitting\" of e.g. the red crosses in the upper right lead to the blue dashes being missclassified in the process, even though there are generally blue dashes in the area. For $k=13$, $k$ is close to the number of points, and all points are predicted to be in the majority class in this case."
   ]
  },
  {
   "cell_type": "markdown",
   "metadata": {},
   "source": [
    "\\newpage\n",
    "\n",
    "#\n",
    "\n",
    "As $Tr$ is linear and $Tr(A)=Tr(A^T)$, we can rewrite $J$ as\n",
    "\n",
    "$$\n",
    "\\begin{aligned}\n",
    "J(\\tilde{W}) &= \\frac{1}{2}Tr((\\tilde{X}\\tilde{W} − T)^T(\\tilde{X}\\tilde{W} − T)) \\\\\n",
    "&= \\frac{1}{2} Tr((\\tilde{W}^T\\tilde{X}^T-T^T)(\\tilde{X}\\tilde{W} − T)) \\\\\n",
    "&= \\frac{1}{2} Tr(\\tilde{W}^T\\tilde{X}^T\\tilde{X}\\tilde{W} - \\tilde{W}^T\\tilde{X}^TT- T^T \\tilde{X}\\tilde{W} + T^TT) \\\\\n",
    "&= \\frac{1}{2}\\big[ Tr(\\tilde{W}^T\\tilde{X}^T\\tilde{X}\\tilde{W}) - \\underbrace{Tr(\\tilde{W}^T\\tilde{X}^TT)}_{=Tr(T^T\\tilde{X}\\tilde{W})}- Tr(T^T \\tilde{X}\\tilde{W}) + Tr(T^TT)\\big]\n",
    "\\end{aligned}\n",
    "$$\n",
    "\n",
    "Using the gradient rules for $Tr$, we can write the gradient $\\nabla J(\\tilde{W})$ as such:\n",
    "\n",
    "\n",
    "$$\n",
    "\\begin{aligned}\n",
    "\\nabla J(\\tilde{W}) &= \\frac{1}{2}\\big[ \\nabla_wTr(\\tilde{W}^T\\tilde{X}^T\\tilde{X}\\tilde{W}) -  2\\nabla_wTr(T^T\\tilde{X}\\tilde{W}) + \\underbrace{\\nabla_wTr(T^TT)}_{=0}\\big] \\\\\n",
    "&=\\frac{1}{2}\\big[(\\tilde{X}^T\\tilde{X} + \\tilde{X}^T\\tilde{X})\\tilde{W} - 2\\tilde{X}^TT\\big] \\\\\n",
    "&=\\tilde{X}^T\\tilde{X}\\tilde{W} - \\tilde{X}^TT\n",
    "\\end{aligned}\n",
    "$$\n",
    "\n",
    "We optimize $J$ by solving $\\nabla J = 0$:\n",
    "$$\n",
    "\\begin{aligned}\n",
    "\\nabla J(&\\tilde{W}) = 0 &&\\Leftrightarrow \\\\\n",
    "\\tilde{X}^T\\tilde{X}&\\tilde{W} = \\tilde{X}^TT &&\\Leftrightarrow \\\\\n",
    "&\\tilde{W} = (\\tilde{X}^T\\tilde{X})^{-1}\\tilde{X}^TT\n",
    "\\end{aligned}\n",
    "$$"
   ]
  },
  {
   "cell_type": "markdown",
   "metadata": {},
   "source": [
    "\\newpage\n",
    "\n",
    "#\n",
    "\n",
    "## (a)"
   ]
  },
  {
   "cell_type": "code",
   "execution_count": 5,
   "metadata": {},
   "outputs": [
    {
     "data": {
      "image/png": "[encoded data removed]",
      "text/plain": [
       "<Figure size 432x288 with 1 Axes>"
      ]
     },
     "metadata": {
      "needs_background": "light"
     },
     "output_type": "display_data"
    }
   ],
   "source": [
    "x = np.array([\n",
    "    [-3,9],\n",
    "    [-2.5,6.25],\n",
    "    [3,9],\n",
    "    [-1.5,2.25],\n",
    "    [0,0],\n",
    "    [1,1]\n",
    "])\n",
    "y = np.array([1,1,1,-1,-1,-1])\n",
    "\n",
    "N = len(x)\n",
    "\n",
    "xt = x.transpose()\n",
    "\n",
    "plt.scatter(xt[0], xt[1], c = y)\n",
    "plt.show()"
   ]
  },
  {
   "cell_type": "markdown",
   "metadata": {},
   "source": [
    "Yes it is linearly separable\n",
    "\n",
    "## (b)"
   ]
  },
  {
   "cell_type": "code",
   "execution_count": 6,
   "metadata": {},
   "outputs": [
    {
     "data": {
      "image/png": "[encoded data removed]",
      "text/plain": [
       "<Figure size 432x288 with 1 Axes>"
      ]
     },
     "metadata": {
      "needs_background": "light"
     },
     "output_type": "display_data"
    }
   ],
   "source": [
    "plt.scatter(xt[0], xt[1], c = y, s = [10,100,10,100,10,10])\n",
    "plt.show()"
   ]
  },
  {
   "cell_type": "markdown",
   "metadata": {},
   "source": [
    "The support vectors are marked as the bigger dots above. These are the points closest to the \"boundary\" of the classes.\n",
    "\n",
    "The lowest margin separating hyperplane is found as the line going perpendicular to the vector between the support vectors, right in the middle between them.\n",
    "\n",
    "A normalized such $w$ may be found by taking $\\frac{s_1-s_2}{||s_1-s_2||}$. $b$ is calculated by solving the equation (the distance being the same to both support vectors):\n",
    "\n",
    "$$\n",
    "\\begin{aligned}\n",
    "w^Tx_1+b&=-(w^Tx_2+b) \\Leftrightarrow\\\\\n",
    "b&=\\frac{1}{2}(-w^Tx_2-w^Tx_1)\n",
    "\\end{aligned}\n",
    "$$"
   ]
  },
  {
   "cell_type": "code",
   "execution_count": 12,
   "metadata": {},
   "outputs": [
    {
     "name": "stdout",
     "output_type": "stream",
     "text": [
      "w = [-0.24253563  0.9701425 ]\n",
      "b = -4.608176875690327\n"
     ]
    },
    {
     "data": {
      "image/png": "[encoded data removed]",
      "text/plain": [
       "<Figure size 432x288 with 1 Axes>"
      ]
     },
     "metadata": {
      "needs_background": "light"
     },
     "output_type": "display_data"
    }
   ],
   "source": [
    "s1, s2 = np.array([\n",
    "    [-2.5, 6.25],\n",
    "    [-1.5, 2.25],\n",
    "])\n",
    "\n",
    "w = (s1 - s2) / np.linalg.norm(s1 - s2)\n",
    "b = 1/2*(-w.dot(s1)-w.dot(s2))\n",
    "\n",
    "print(f'w = {w}')\n",
    "print(f'b = {b}')\n",
    "\n",
    "plt.scatter(xt[0], xt[1], c = y, s = [10,100,10,100,10,10])\n",
    "\n",
    "x1 = np.array([-4, 6])\n",
    "x2 = (-b - x1 * w[0]) / w[1]\n",
    "\n",
    "plt.plot(x1, x2)\n",
    "plt.xlim(-4,6)\n",
    "plt.ylim(0,10)\n",
    "plt.title(\"Maximum margin separating hyperplane\")\n",
    "plt.show()\n"
   ]
  },
  {
   "cell_type": "markdown",
   "metadata": {},
   "source": [
    "\\newpage\n",
    "\n",
    "## (c)\n",
    "\n",
    "Let $i\\in S = \\{1,2\\}$ be the indices of the support vectors. We then have $\\alpha_i>0$ for $i \\in S$ and $\\alpha_i=0$ else. We have $x_1=(-2.5,6.25)^T$, $x_2=(-1.5,2.25)^T$, $y_1=1$ and $y_2=-1$.\n",
    "\n",
    "The dual optimization problem\n",
    "$$\n",
    "\\begin{aligned}\n",
    "\\underset{\\alpha}{\\max}\\: &W(\\alpha)=\\sum_{i=1}^m \\alpha_i -\\frac{1}{2}\\sum_{i,j=1}^m y^{(i)} y^{(j)} \\alpha_i \\alpha_j (x^{(i)} \\cdot x^{(j)}) \\\\\n",
    "\\text{s.t. } &\\alpha_i \\ge 0, i = 1,\\dots,m \\\\\n",
    "&\\sum_{i=1}^m\\alpha_i y^{(i)} = 0\n",
    "\\end{aligned}\n",
    "$$\n",
    "\n",
    "simplifies to\n",
    "\n",
    "$$\n",
    "\\begin{aligned}\n",
    "\\underset{\\alpha}{\\max}\\: &W(\\alpha)=\\alpha_1+\\alpha_1 -\\frac{1}{2}(\\alpha_1^2\\underbrace{||x_1||^2}_{=2.5^2+6.25^2}+\\alpha_2^2\\underbrace{||x_2||^2}_{=1.5^2+2.25^2}-2\\alpha_1\\alpha_2\\underbrace{x_1^Tx_2}_{=2.5\\cdot1.5+6.25\\cdot2.25}) \\\\\n",
    "\\text{s.t. } &\\alpha_i \\ge 0, i = 1,\\dots,m \\\\\n",
    "&\\alpha_1=\\alpha_2\n",
    "\\end{aligned}\n",
    "$$\n",
    "\n",
    "let $a=\\alpha_1=\\alpha_2$, we have $W(a)=2a-\\frac{a^2}{2}(||x_1||^2+||x_2||^2-2x_1^Tx_2)$. We can then find the minimum by a stationary point of $W(\\alpha)$, as it is of a single variable and unconstrained.\n",
    "\n",
    "$$\n",
    "\\begin{aligned}\n",
    "\\frac{dW}{da}&=0 &&\\Leftrightarrow \\\\\n",
    "2-(||x_1||^2+||x_2||^2-2x_1^Tx_2)a&= 0 &&\\Leftrightarrow \\\\\n",
    "a& = \\frac{2}{||x_1||^2+||x_2||^2-2x_1^Tx_2} &&\\implies \\\\\n",
    "a& \\approx 0.118\n",
    "\\end{aligned}\n",
    "$$\n",
    "\n",
    "Further, we have $w=\\sum_n \\alpha_n y^{(n)}x_n=a(-2.5,6.25)^T-a(-1.5,2.25)^T \\approx (-0.118, 0.472)^T$ by the optimum critera.\n",
    "\n",
    "Finally, we can calculate $b$ by\n",
    "\n",
    "$$\n",
    "\\begin{aligned}\n",
    "b &= \\frac{1}{|S|}\\sum_{n\\in S}[y^{(n)}-(\\sum_{k\\in S}\\alpha_n y^{(n)}x_n)^Tx_n] \\\\\n",
    "&= \\frac{1}{2}[1-\\underbrace{w^Tx_1}_{\\approx 3.245}-1-\\underbrace{w^Tx_2}_{\\approx1.239}] \\\\\n",
    "&\\approx -2.242\n",
    "\\end{aligned}\n",
    "$$\n",
    "\n",
    "We have that the $w$ aquired from this approach is $\\frac{1}{2}$ times the $w$ aquired in (b), and the same goes for $b$. As such, the solution in (b) is a scaled version of this solution, both being valid solutions to the problem."
   ]
  },
  {
   "cell_type": "markdown",
   "metadata": {},
   "source": [
    "\\newpage\n",
    "\n",
    "#\n",
    "\n",
    "## (a)\n"
   ]
  },
  {
   "cell_type": "code",
   "execution_count": 8,
   "metadata": {},
   "outputs": [],
   "source": [
    "data = pd.read_csv(\"Data.csv\", header=None)\n",
    "x = np.array(data[[0, 1]])\n",
    "y = np.array(data[2])\n",
    "\n",
    "N = len(x)\n",
    "\n",
    "xt = x.transpose()"
   ]
  },
  {
   "cell_type": "code",
   "execution_count": 9,
   "metadata": {},
   "outputs": [
    {
     "data": {
      "image/png": "[encoded data removed]",
      "text/plain": [
       "<Figure size 432x288 with 1 Axes>"
      ]
     },
     "metadata": {
      "needs_background": "light"
     },
     "output_type": "display_data"
    }
   ],
   "source": [
    "plt.scatter(xt[0], xt[1], c = y)\n",
    "plt.show()"
   ]
  },
  {
   "cell_type": "markdown",
   "metadata": {},
   "source": [
    "Yes it is linearly separable.\n",
    "\n",
    "\\newpage\n",
    "\n",
    "## (b)\n"
   ]
  },
  {
   "cell_type": "code",
   "execution_count": 10,
   "metadata": {},
   "outputs": [
    {
     "name": "stdout",
     "output_type": "stream",
     "text": [
      "w = [-0.5  1.5]\n",
      "b = -1.9999999999999993\n"
     ]
    },
    {
     "data": {
      "image/png": "[encoded data removed]",
      "text/plain": [
       "<Figure size 432x288 with 1 Axes>"
      ]
     },
     "metadata": {
      "needs_background": "light"
     },
     "output_type": "display_data"
    }
   ],
   "source": [
    "import cvxpy as cp\n",
    "\n",
    "w = cp.Variable(2)\n",
    "b = cp.Variable()\n",
    "\n",
    "objective = cp.Minimize(1/2*cp.sum_squares(w))\n",
    "constraints = [y[i]*(w.T @ x[i] + b) >= 1 for i in range(N)]\n",
    "prob = cp.Problem(objective, constraints)\n",
    "\n",
    "prob.solve()\n",
    "\n",
    "print(f'w = {w.value}')\n",
    "print(f'b = {b.value}')\n",
    "\n",
    "x1 = np.array([0, 10])\n",
    "x2 = (-np.array(b.value) - x1 * w.value[0]) / w.value[1]\n",
    "\n",
    "plt.plot(x1, x2)\n",
    "plt.scatter(xt[0], xt[1], c = y)\n",
    "plt.title(\"Maximum margin separating hyperplane\")\n",
    "plt.show()"
   ]
  },
  {
   "cell_type": "markdown",
   "metadata": {},
   "source": [
    "## (c)"
   ]
  },
  {
   "cell_type": "code",
   "execution_count": 11,
   "metadata": {},
   "outputs": [
    {
     "name": "stdout",
     "output_type": "stream",
     "text": [
      "alpha = [-0.         -0.         -0.         -0.         -0.         -0.\n",
      " -0.         -0.         -0.         -0.         -0.         -0.\n",
      " -0.         -0.         -0.         -0.         -0.         -0.\n",
      " -0.         -0.         -0.         -0.         -0.         -0.\n",
      " -0.         -0.         -0.          1.03178447  0.21821553  0.26059482\n",
      "  0.98940518]\n"
     ]
    },
    {
     "data": {
      "image/png": "[encoded data removed]",
      "text/plain": [
       "<Figure size 432x288 with 1 Axes>"
      ]
     },
     "metadata": {
      "needs_background": "light"
     },
     "output_type": "display_data"
    }
   ],
   "source": [
    "alpha = cp.Variable(N)\n",
    "\n",
    "P = []\n",
    "for i in range(N):\n",
    "    P.append([])\n",
    "    for j in range(N):\n",
    "        P[i].append(y[i]*y[j]*np.dot(x[i], x[j]))\n",
    "\n",
    "# P += 1e-13 * np.eye(N)\n",
    "\n",
    "objective = cp.Maximize(cp.sum(alpha) - 1/2*cp.quad_form(alpha, P))\n",
    "\n",
    "constraints = [alpha >= 0, alpha.T @ y == 0]\n",
    "\n",
    "prob = cp.Problem(objective, constraints)\n",
    "prob.solve()\n",
    "\n",
    "a = (abs(alpha.value) > 1e-9) * alpha.value\n",
    "\n",
    "print(f'alpha = {a}')\n",
    "\n",
    "plt.scatter(xt[0], xt[1], c = y, s = [100 if a[i] > 0 else 10 for i in range(len(a))])\n",
    "plt.title(\"Support vectors\")\n",
    "plt.show()"
   ]
  },
  {
   "cell_type": "markdown",
   "metadata": {},
   "source": [
    "There are 4 support vectors, marked as large dots in the plot above."
   ]
  }
 ],
 "metadata": {
  "kernelspec": {
   "display_name": "Python 3",
   "language": "python",
   "name": "python3"
  },
  "language_info": {
   "codemirror_mode": {
    "name": "ipython",
    "version": 3
   },
   "file_extension": ".py",
   "mimetype": "text/x-python",
   "name": "python",
   "nbconvert_exporter": "python",
   "pygments_lexer": "ipython3",
   "version": "3.7.4"
  }
 },
 "nbformat": 4,
 "nbformat_minor": 2
}
