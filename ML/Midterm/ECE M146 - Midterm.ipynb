{
 "cells": [
  {
   "cell_type": "markdown",
   "metadata": {},
   "source": [
    "John Rapp Farnes | 405461225\n",
    "\n",
    "I John Rapp Farnes with UID 405461225 have read and understood the policy on academic dishonesty available on the course website."
   ]
  },
  {
   "cell_type": "code",
   "execution_count": 1,
   "metadata": {},
   "outputs": [
    {
     "data": {
      "text/plain": [
       "6"
      ]
     },
     "execution_count": 1,
     "metadata": {},
     "output_type": "execute_result"
    }
   ],
   "source": [
    "alpha = 5 % 8 + 1\n",
    "alpha"
   ]
  },
  {
   "cell_type": "markdown",
   "metadata": {},
   "source": [
    "My $\\alpha=6$\n",
    "\n",
    "\\newpage"
   ]
  },
  {
   "cell_type": "markdown",
   "metadata": {},
   "source": [
    "# Perceptron\n",
    "\n",
    "## (a)\n",
    "We have $w^{t+1}=w^{t}-\\eta \\nabla J(w^t)=w^{t}+\\eta y_ix_i$, where $y_i=1$ if positive and $y_i=-1$ if negative. As such:\n",
    "\n",
    "### Input $x$ is falsely classified as positive:\n",
    "$$\n",
    "y_i = -1 \\implies\n",
    "w^{t+1}=w^{t}-\\eta x_i\n",
    "$$\n",
    "\n",
    "### Input $x$ is falsely classified as negative:\n",
    "$$\n",
    "y_i = 1 \\implies\n",
    "w^{t+1}=w^{k}+\\eta x_i\n",
    "$$"
   ]
  },
  {
   "cell_type": "markdown",
   "metadata": {},
   "source": [
    "## (b)"
   ]
  },
  {
   "cell_type": "code",
   "execution_count": 29,
   "metadata": {},
   "outputs": [
    {
     "name": "stdout",
     "output_type": "stream",
     "text": [
      "Sequency of w:s\n",
      "  w0 = [0 1 1]\n",
      "  w1 = [0 1 1]\n",
      "  w2 = [  1.  -5. -11.]\n",
      "  w3 = [0. 3. 5.]\n",
      "  w4 = [-1.  0.  4.]\n"
     ]
    },
    {
     "data": {
      "image/png": "[encoded data removed]",
      "text/plain": [
       "<Figure size 432x288 with 1 Axes>"
      ]
     },
     "metadata": {
      "needs_background": "light"
     },
     "output_type": "display_data"
    }
   ],
   "source": [
    "import pandas as pd\n",
    "import numpy as np\n",
    "import matplotlib.pyplot as plt\n",
    "\n",
    "x = np.array([\n",
    "    [alpha, alpha],\n",
    "    [-alpha, -2*alpha],\n",
    "    [-8, -16],\n",
    "    [3, 1],\n",
    "])\n",
    "\n",
    "y = [1,1,-1,-1]\n",
    "\n",
    "def perceptron(X, y):\n",
    "    N = X.shape[0]\n",
    "    X = np.c_[np.ones(N), X]\n",
    "    w = np.array([0, 1, 1])\n",
    "    \n",
    "    ws = [w]\n",
    "    \n",
    "    for i in range(N):\n",
    "        if y[i] * np.dot(w, X[i]) <= 0:\n",
    "            w = w + y[i] * X[i]\n",
    "        ws.append(w)\n",
    "    return ws\n",
    "\n",
    "def plot_perceptron(X, y, w):\n",
    "    plt.scatter(X[:, 0], X[:, 1], c = y)\n",
    "\n",
    "    x1 = [min(X[:, 0]) - 0.5, max(X[:, 0]) + 0.5]\n",
    "    x2 = [0, 0]\n",
    "    for i in range(2):\n",
    "        x2[i] = -np.dot(w, [1, x1[i], 0])/w[2]\n",
    "\n",
    "    plt.plot(x1, x2)\n",
    "    plt.xlim(*x1)\n",
    "    plt.ylim(min(X[:, 1]) - 0.5, max(X[:, 1]) + 0.5)\n",
    "\n",
    "ws = perceptron(x, y)\n",
    "\n",
    "print(f\"Sequency of w:s\")\n",
    "for i in range(len(ws)):\n",
    "    print(f\"  w{i} = {ws[i]}\")\n",
    "\n",
    "w = ws[-1]\n",
    "\n",
    "plt.title(f\"Final perceptron\")\n",
    "plot_perceptron(x, y, w)"
   ]
  },
  {
   "cell_type": "markdown",
   "metadata": {},
   "source": [
    "\\newpage\n",
    "\n",
    "# K-NN classifier\n",
    "\n",
    "## (a)"
   ]
  },
  {
   "cell_type": "code",
   "execution_count": 3,
   "metadata": {},
   "outputs": [],
   "source": [
    "import pandas as pd\n",
    "import numpy as np\n",
    "import matplotlib.pyplot as plt\n",
    "from scipy.stats import mode\n",
    "from sklearn.metrics import accuracy_score\n",
    "\n",
    "data = pd.read_csv('Q2data.csv', header=None)"
   ]
  },
  {
   "cell_type": "code",
   "execution_count": 4,
   "metadata": {},
   "outputs": [],
   "source": [
    "testing_start = 10*(alpha - 1)\n",
    "testing_end = 10*alpha - 1\n",
    "testing_indices = [k for k in range(testing_start, testing_end + 1)]\n",
    "\n",
    "testing_data = data.loc[testing_indices]\n",
    "\n",
    "training_data = data.drop(testing_indices)"
   ]
  },
  {
   "cell_type": "code",
   "execution_count": 5,
   "metadata": {},
   "outputs": [],
   "source": [
    "training_x = np.array(training_data[[0, 1]])\n",
    "training_y = np.array(training_data[2])\n",
    "\n",
    "testing_x = np.array(testing_data[[0, 1]])\n",
    "testing_y = np.array(testing_data[2])"
   ]
  },
  {
   "cell_type": "code",
   "execution_count": 6,
   "metadata": {},
   "outputs": [
    {
     "data": {
      "image/png": "[encoded data removed]",
      "text/plain": [
       "<Figure size 360x360 with 1 Axes>"
      ]
     },
     "metadata": {
      "needs_background": "light"
     },
     "output_type": "display_data"
    }
   ],
   "source": [
    "colors = ['red' if y == 1 else 'blue' for y in training_y]\n",
    "plt.figure(figsize=[5,5])\n",
    "plt.scatter(training_x.T[0], training_x.T[1], color = colors)\n",
    "\n",
    "plt.scatter(testing_x.T[0], testing_x.T[1], color = 'cyan')\n",
    "plt.show()"
   ]
  },
  {
   "cell_type": "markdown",
   "metadata": {},
   "source": [
    "The data is not linearly separable!\n",
    "\n",
    "\\newpage\n",
    "\n",
    "## (b)\n"
   ]
  },
  {
   "cell_type": "code",
   "execution_count": 7,
   "metadata": {},
   "outputs": [
    {
     "data": {
      "image/png": "[encoded data removed]",
      "text/plain": [
       "<Figure size 432x288 with 1 Axes>"
      ]
     },
     "metadata": {
      "needs_background": "light"
     },
     "output_type": "display_data"
    }
   ],
   "source": [
    "def l1_norm(x, y):\n",
    "    return np.abs((x - y)).dot([1, 1])\n",
    "\n",
    "def find_k_min_indices(X, k):\n",
    "    min_k = []\n",
    "    \n",
    "    for i in range(len(X)):\n",
    "        if len(min_k) < k:\n",
    "            min_k.append(i)\n",
    "            next;\n",
    "        for j in range(len(min_k)):\n",
    "            if X[i] < X[min_k[j]]:\n",
    "                min_k.insert(j, i)\n",
    "                min_k.pop()\n",
    "                break;\n",
    "    return min_k\n",
    "\n",
    "def find_most_common(min_ys):\n",
    "    frac_of_1 = sum(min_ys == 1) / len(min_ys)\n",
    "    \n",
    "    if frac_of_1 == 0.5: return None, False\n",
    "    else:\n",
    "        return (1 if frac_of_1 > 0.5 else 0), True\n",
    "\n",
    "def knn_classifier(x, k, training_x, training_y, y_tie = 0):\n",
    "    dists = [l1_norm(x, x_t) for x_t in training_x]\n",
    "    \n",
    "    min_indices = find_k_min_indices(dists, k)\n",
    "    min_ys = training_y[min_indices]\n",
    "\n",
    "    most_common, has_dominant_value = find_most_common(min_ys)\n",
    "    \n",
    "    return most_common if has_dominant_value else y_tie\n",
    "\n",
    "def pred_y(X, k):\n",
    "    return [knn_classifier(x, k, training_x, training_y) for x in X]\n",
    "\n",
    "\n",
    "testing_acc = []\n",
    "ks = range(1, 10)\n",
    "for k in ks:\n",
    "    testing_acc.append(accuracy_score(testing_y, pred_y(testing_x, k)))\n",
    "\n",
    "plt.plot(ks, testing_acc)\n",
    "plt.xlabel(\"k\")\n",
    "plt.ylabel(\"Testing accuracy\")\n",
    "plt.title(\"K-NN testing accuracy for different k\")\n",
    "plt.show()"
   ]
  },
  {
   "cell_type": "markdown",
   "metadata": {},
   "source": [
    "\\newpage\n",
    "\n",
    "# Decision Tree\n",
    "\n",
    "I will do the calculations in Python, as they are repetetive, and to reduce error.\n",
    "\n",
    "## (a)"
   ]
  },
  {
   "cell_type": "code",
   "execution_count": 8,
   "metadata": {},
   "outputs": [],
   "source": [
    "table = {\n",
    "    'ECE102': [1,0,1,0,1,0,1,0],\n",
    "    'ECE131': [1,1,1,1,0,0,0,0],\n",
    "    'MATH61': [1,1,0,0,0,0,1,0],\n",
    "    'MUSC15': [1,0,0,1,1,0,1,1],\n",
    "    'ECE146': [1,1,1,1,0,0,1,0]\n",
    "}\n",
    "table = pd.DataFrame(data=table)"
   ]
  },
  {
   "cell_type": "markdown",
   "metadata": {},
   "source": [
    "\n",
    "We have $H(X)=-\\sum_{k=1}^{K}p_k \\log p_k$. For a binary variable, this simplifies to $H(X)=-p_0\\log p_0 -(1-p_0)\\log (1-p_0)$\n"
   ]
  },
  {
   "cell_type": "code",
   "execution_count": 9,
   "metadata": {},
   "outputs": [
    {
     "name": "stdout",
     "output_type": "stream",
     "text": [
      "H(ECE146)=0.954434002924965\n"
     ]
    }
   ],
   "source": [
    "def entropy_Y(Y):\n",
    "    P_Y0 = sum(Y == 0) / len(Y)\n",
    "    if P_Y0 == 1 or P_Y0 == 0: return 0 \n",
    "    return -P_Y0*np.log2(P_Y0) -(1-P_Y0)*np.log2((1-P_Y0))\n",
    "\n",
    "H_Y = entropy_Y(table['ECE146'])\n",
    "print(f'H(ECE146)={H_Y}')"
   ]
  },
  {
   "cell_type": "markdown",
   "metadata": {},
   "source": [
    "## (b)\n",
    "\n",
    "We have $H(Y\\vert X)=\\sum_j H(Y\\vert X=x_j)P(X=x_j)$, where \n",
    "\n",
    "$$\n",
    "\\begin{aligned}\n",
    "H(Y\\vert X=x_j)&=-\\sum_{k=1}^{K}P(Y=y_k\\vert X=x_j)\\log P(Y=y_k\\vert X=x_j) \\\\\n",
    "&=-\\sum_{k=1}^{K}\\frac{P(Y=y_k, X=x_j)}{P(X=x_j)}\\log \\frac{P(Y=y_k, X=x_j)}{P(X=x_j)}\n",
    "\\end{aligned}\n",
    "$$"
   ]
  },
  {
   "cell_type": "code",
   "execution_count": 10,
   "metadata": {},
   "outputs": [
    {
     "data": {
      "text/html": [
       "<div>\n",
       "<style scoped>\n",
       "    .dataframe tbody tr th:only-of-type {\n",
       "        vertical-align: middle;\n",
       "    }\n",
       "\n",
       "    .dataframe tbody tr th {\n",
       "        vertical-align: top;\n",
       "    }\n",
       "\n",
       "    .dataframe thead th {\n",
       "        text-align: right;\n",
       "    }\n",
       "</style>\n",
       "<table border=\"1\" class=\"dataframe\">\n",
       "  <thead>\n",
       "    <tr style=\"text-align: right;\">\n",
       "      <th>ECE102</th>\n",
       "      <th>0</th>\n",
       "      <th>1</th>\n",
       "      <th>All</th>\n",
       "    </tr>\n",
       "    <tr>\n",
       "      <th>ECE146</th>\n",
       "      <th></th>\n",
       "      <th></th>\n",
       "      <th></th>\n",
       "    </tr>\n",
       "  </thead>\n",
       "  <tbody>\n",
       "    <tr>\n",
       "      <th>0</th>\n",
       "      <td>0.25</td>\n",
       "      <td>0.125</td>\n",
       "      <td>0.375</td>\n",
       "    </tr>\n",
       "    <tr>\n",
       "      <th>1</th>\n",
       "      <td>0.25</td>\n",
       "      <td>0.375</td>\n",
       "      <td>0.625</td>\n",
       "    </tr>\n",
       "    <tr>\n",
       "      <th>All</th>\n",
       "      <td>0.50</td>\n",
       "      <td>0.500</td>\n",
       "      <td>1.000</td>\n",
       "    </tr>\n",
       "  </tbody>\n",
       "</table>\n",
       "</div>"
      ],
      "text/plain": [
       "ECE102     0      1    All\n",
       "ECE146                    \n",
       "0       0.25  0.125  0.375\n",
       "1       0.25  0.375  0.625\n",
       "All     0.50  0.500  1.000"
      ]
     },
     "execution_count": 10,
     "metadata": {},
     "output_type": "execute_result"
    }
   ],
   "source": [
    "# To do the calculations, I will use normalized cross-tables. E.g.\n",
    "crosstab = pd.crosstab(table['ECE146'], table['ECE102'], margins=True, normalize=True)\n",
    "crosstab"
   ]
  },
  {
   "cell_type": "code",
   "execution_count": 11,
   "metadata": {},
   "outputs": [
    {
     "name": "stdout",
     "output_type": "stream",
     "text": [
      "P_Y1_X0=0.3333333333333333\n",
      "P_Y0_X0=0.6666666666666666\n",
      "H_Y_X0=0.9182958340544896\n"
     ]
    }
   ],
   "source": [
    "# We then have, e.g. for ECE102\n",
    "\n",
    "P_Y1_X0 = crosstab[1][0]/crosstab[\"All\"][0]\n",
    "print(f'P_Y1_X0={P_Y1_X0}')\n",
    "\n",
    "P_Y0_X0 = crosstab[0][0]/crosstab[\"All\"][0]\n",
    "print(f'P_Y0_X0={P_Y0_X0}')\n",
    "\n",
    "H_Y_X0 = -(0 if P_Y1_X0 == 0 else P_Y1_X0*np.log2(P_Y1_X0)) \\\n",
    "        -(0 if P_Y0_X0 == 0 else P_Y0_X0*np.log2(P_Y0_X0))\n",
    "\n",
    "print(f'H_Y_X0={H_Y_X0}')"
   ]
  },
  {
   "cell_type": "code",
   "execution_count": 12,
   "metadata": {},
   "outputs": [
    {
     "name": "stdout",
     "output_type": "stream",
     "text": [
      "P_Y1_X1=0.6\n",
      "P_Y0_X1=0.4\n",
      "H_Y_X1=0.9709505944546686\n"
     ]
    }
   ],
   "source": [
    "P_Y1_X1 = crosstab[1][1]/crosstab[\"All\"][1]\n",
    "print(f'P_Y1_X1={P_Y1_X1}')\n",
    "\n",
    "P_Y0_X1 = crosstab[0][1]/crosstab[\"All\"][1]\n",
    "print(f'P_Y0_X1={P_Y0_X1}')\n",
    "\n",
    "H_Y_X1 = -(0 if P_Y1_X1 == 0 else P_Y1_X1*np.log2(P_Y1_X1)) \\\n",
    "        -(0 if P_Y0_X1 == 0 else P_Y0_X1*np.log2(P_Y0_X1))\n",
    "\n",
    "print(f'H_Y_X1={H_Y_X1}')"
   ]
  },
  {
   "cell_type": "code",
   "execution_count": 13,
   "metadata": {},
   "outputs": [
    {
     "name": "stdout",
     "output_type": "stream",
     "text": [
      "P_X0=0.375\n",
      "P_X1=0.625\n",
      "H_Y_X=0.9512050593046015\n"
     ]
    }
   ],
   "source": [
    "P_X0 = crosstab[\"All\"][0]\n",
    "print(f'P_X0={P_X0}')\n",
    "\n",
    "P_X1 = crosstab[\"All\"][1]\n",
    "print(f'P_X1={P_X1}')\n",
    "\n",
    "H_Y_X = P_X0 * H_Y_X0 + P_X1 * H_Y_X1\n",
    "print(f'H_Y_X={H_Y_X}')"
   ]
  },
  {
   "cell_type": "code",
   "execution_count": 14,
   "metadata": {},
   "outputs": [
    {
     "data": {
      "text/plain": [
       "{'MUSC15': 0.9512050593046015,\n",
       " 'ECE131': 0.4056390622295664,\n",
       " 'MATH61': 0.6068441215341679,\n",
       " 'ECE102': 0.9056390622295665}"
      ]
     },
     "execution_count": 14,
     "metadata": {},
     "output_type": "execute_result"
    }
   ],
   "source": [
    "# I have implemented this in a function, that can then be used to calculate H(Y|X_k) for all k\n",
    "\n",
    "def get(tab, c, r):\n",
    "    return tab[c][r] if (c in tab and r in tab[c]) else 0\n",
    "\n",
    "def entropy(tab):\n",
    "    P_X0 = get(tab, 'All', 0)\n",
    "    P_Y1_X0 = get(tab, 1, 0)/P_X0 if P_X0 != 0 else 0 \n",
    "    P_Y0_X0 = get(tab, 0, 0)/P_X0 if P_X0 != 0 else 0 \n",
    "\n",
    "    H_Y_X0 = -(0 if P_Y1_X0 == 0 else P_Y1_X0*np.log2(P_Y1_X0)) \\\n",
    "            -(0 if P_Y0_X0 == 0 else P_Y0_X0*np.log2(P_Y0_X0))\n",
    "\n",
    "    P_X1 = get(tab, 'All', 1)\n",
    "    P_Y1_X1 = get(tab, 1, 1)/P_X1 if P_X1 != 0 else 0 \n",
    "\n",
    "    P_Y0_X1 = get(tab, 0, 1)/P_X1 if P_X1 != 0 else 0 \n",
    "\n",
    "    H_Y_X1 = -(0 if P_Y1_X1 == 0 else P_Y1_X1*np.log2(P_Y1_X1)) \\\n",
    "            -(0 if P_Y0_X1 == 0 else P_Y0_X1*np.log2(P_Y0_X1))\n",
    "\n",
    "    H_Y_X = P_X0 * H_Y_X0 + P_X1 * H_Y_X1\n",
    "    \n",
    "    return H_Y_X\n",
    "\n",
    "\n",
    "attributes = {\n",
    "    'ECE102',\n",
    "    'ECE131',\n",
    "    'MATH61',\n",
    "    'MUSC15'\n",
    "}\n",
    "\n",
    "entropies = { k: entropy(pd.crosstab(table[k], table['ECE146'], margins=True, normalize=True)) for k in attributes }\n",
    "\n",
    "entropies"
   ]
  },
  {
   "cell_type": "markdown",
   "metadata": {},
   "source": [
    "\\newpage\n",
    "\n",
    "## (c)"
   ]
  },
  {
   "cell_type": "code",
   "execution_count": 15,
   "metadata": {},
   "outputs": [
    {
     "data": {
      "text/plain": [
       "{'MUSC15': 0.0032289436203635224,\n",
       " 'ECE131': 0.5487949406953987,\n",
       " 'MATH61': 0.34758988139079716,\n",
       " 'ECE102': 0.04879494069539858}"
      ]
     },
     "execution_count": 15,
     "metadata": {},
     "output_type": "execute_result"
    }
   ],
   "source": [
    "information_gains = { k: H_Y - entropy for k, entropy in entropies.items() }\n",
    "\n",
    "information_gains"
   ]
  },
  {
   "cell_type": "markdown",
   "metadata": {},
   "source": [
    "## (d)\n",
    "As *ECE131* has the highest information gain, I will split on this attribute first.\n",
    "\n",
    "\\newpage\n",
    "\n",
    "## (e)"
   ]
  },
  {
   "cell_type": "code",
   "execution_count": 16,
   "metadata": {},
   "outputs": [
    {
     "name": "stdout",
     "output_type": "stream",
     "text": [
      "   ECE102  ECE131  MATH61  MUSC15  ECE146\n",
      "4       1       0       0       1       0\n",
      "5       0       0       0       0       0\n",
      "6       1       0       1       1       1\n",
      "7       0       0       0       1       0\n",
      "   ECE102  ECE131  MATH61  MUSC15  ECE146\n",
      "0       1       1       1       1       1\n",
      "1       0       1       1       0       1\n",
      "2       1       1       0       0       1\n",
      "3       0       1       0       1       1\n"
     ]
    }
   ],
   "source": [
    "# Divide into two sets, depending on vale of ECE131\n",
    "\n",
    "branch1 = table.loc[table.ECE131 == 0]\n",
    "print(branch1)\n",
    "\n",
    "branch2 = table.loc[table.ECE131 == 1]\n",
    "print(branch2)"
   ]
  },
  {
   "cell_type": "code",
   "execution_count": 17,
   "metadata": {},
   "outputs": [
    {
     "name": "stdout",
     "output_type": "stream",
     "text": [
      "H(ECE146|branch1) = 0.8112781244591328\n",
      "H(ECE146|branch2) = 0\n"
     ]
    }
   ],
   "source": [
    "# Calculate the entropy of the sub branches:\n",
    "\n",
    "print(f'H(ECE146|branch1) = {entropy_Y(branch1.ECE146)}')\n",
    "print(f'H(ECE146|branch2) = {entropy_Y(branch2.ECE146)}')"
   ]
  },
  {
   "cell_type": "code",
   "execution_count": 18,
   "metadata": {},
   "outputs": [
    {
     "data": {
      "text/plain": [
       "{'MUSC15': 0.12255624891826566,\n",
       " 'MATH61': 0.8112781244591328,\n",
       " 'ECE102': 0.31127812445913283}"
      ]
     },
     "execution_count": 18,
     "metadata": {},
     "output_type": "execute_result"
    }
   ],
   "source": [
    "# Branch 1 has entropy > 0, we will therefore continue splitting.\n",
    "def get_information_gains(tab, attributes):\n",
    "    entropies = { k: entropy(pd.crosstab(tab[k], tab['ECE146'], margins=True, normalize=True)) for k in attributes }\n",
    "\n",
    "    H_Y = entropy_Y(tab['ECE146'])\n",
    "\n",
    "    information_gains = { k: H_Y - entropy for k, entropy in entropies.items() }\n",
    "    return information_gains\n",
    "\n",
    "\n",
    "get_information_gains(branch1, {\n",
    "    'ECE102',\n",
    "    'MATH61',\n",
    "    'MUSC15'\n",
    "})"
   ]
  },
  {
   "cell_type": "code",
   "execution_count": 19,
   "metadata": {},
   "outputs": [
    {
     "name": "stdout",
     "output_type": "stream",
     "text": [
      "   ECE102  ECE131  MATH61  MUSC15  ECE146\n",
      "4       1       0       0       1       0\n",
      "5       0       0       0       0       0\n",
      "7       0       0       0       1       0\n",
      "   ECE102  ECE131  MATH61  MUSC15  ECE146\n",
      "6       1       0       1       1       1\n"
     ]
    }
   ],
   "source": [
    "# MATH61 has biggest gain, split on this branch\n",
    "\n",
    "branch11 = branch1.loc[branch1.MATH61 == 0]\n",
    "print(branch11)\n",
    "\n",
    "branch12 = branch1.loc[branch1.MATH61 == 1]\n",
    "print(branch12)"
   ]
  },
  {
   "cell_type": "code",
   "execution_count": 20,
   "metadata": {
    "scrolled": true
   },
   "outputs": [
    {
     "name": "stdout",
     "output_type": "stream",
     "text": [
      "H(ECE146|branch11) = 0\n",
      "H(ECE146|branch12) = 0\n"
     ]
    }
   ],
   "source": [
    "# Calculate the entropy of the sub branches:\n",
    "\n",
    "print(f'H(ECE146|branch11) = {entropy_Y(branch11.ECE146)}')\n",
    "print(f'H(ECE146|branch12) = {entropy_Y(branch12.ECE146)}')"
   ]
  },
  {
   "cell_type": "code",
   "execution_count": 21,
   "metadata": {},
   "outputs": [
    {
     "name": "stdout",
     "output_type": "stream",
     "text": [
      "P(ECE146=1|branch11) = 0.0\n",
      "P(ECE146=1|branch12) = 1.0\n"
     ]
    }
   ],
   "source": [
    "# Entropy = 0 for both subbranches => no more splits on this branch\n",
    "\n",
    "# We will therefore classify all the observations in this branch as the option with the highest sample probability\n",
    "\n",
    "print(f'P(ECE146=1|branch11) = {sum(branch11.ECE146 == 1) / len(branch11.ECE146)}')\n",
    "print(f'P(ECE146=1|branch12) = {sum(branch12.ECE146 == 1) / len(branch12.ECE146)}')"
   ]
  },
  {
   "cell_type": "code",
   "execution_count": 22,
   "metadata": {},
   "outputs": [
    {
     "name": "stdout",
     "output_type": "stream",
     "text": [
      "P(ECE146=1|branch2) = 1.0\n"
     ]
    }
   ],
   "source": [
    "# As the entropy for branch 2 = 0, we will do the same here\n",
    "print(f'P(ECE146=1|branch2) = {sum(branch2.ECE146 == 1) / len(branch2.ECE146)}')"
   ]
  },
  {
   "cell_type": "code",
   "execution_count": 23,
   "metadata": {},
   "outputs": [],
   "source": [
    "# The final decision tree can be visualized as such:\n",
    "    \n",
    "# ECE131 == 1 ?\n",
    "#     Yes:\n",
    "#         => ECE146 == 1\n",
    "#     No: \n",
    "#         MATH61 == 1 ?\n",
    "#             Yes:\n",
    "#                 => ECE146 == 1\n",
    "#             No: \n",
    "#                 => ECE146 == 0"
   ]
  },
  {
   "cell_type": "markdown",
   "metadata": {},
   "source": [
    "In summary, a given student is good at ECE146 if they did well in ECE131, or if they didn't do well in ECE131 but did well in MATH61."
   ]
  },
  {
   "cell_type": "markdown",
   "metadata": {},
   "source": [
    "## (f)\n",
    "Based on the above rule, student \\#9 *is good* at ECE146, as the student did well in MATH61 (but not ECE131), and \\#10 is *not* good at ECE146 as the student did well on neither ECE131 nor MATH61."
   ]
  },
  {
   "cell_type": "markdown",
   "metadata": {},
   "source": [
    "\\newpage\n",
    "\n",
    "# Linear Regression\n",
    "\n",
    "## (a)\n",
    "We have\n",
    "\n",
    "$$\n",
    "X = \\begin{bmatrix}\n",
    "1 & 0\\\\\n",
    "1 & 6\\\\\n",
    "1 & 7\n",
    "\\end{bmatrix}\n",
    "$$\n",
    "\n",
    "and\n",
    "\n",
    "$$\n",
    "y = \\begin{bmatrix}\n",
    "6\\\\\n",
    "0\\\\\n",
    "0\n",
    "\\end{bmatrix}\n",
    "$$"
   ]
  },
  {
   "cell_type": "markdown",
   "metadata": {},
   "source": [
    "## (b)\n",
    "\n",
    "We have \n",
    "\n",
    "$$\n",
    "\\begin{aligned}\n",
    "J(w)&=||Xw-y||^2 \\\\\n",
    "&= (Xw-y)^T(Xw-y) \\\\\n",
    "&= (w^TX^T-y^T)(Xw-y) \\\\\n",
    "&= w^TX^TXw-\\underbrace{y^TXw}_{=w^TX^Ty}-w^TX^Ty+y^Ty\n",
    "\\end{aligned}\n",
    "$$\n",
    "\n",
    "By expansion of the $L_2$-norm, and $x^T=x$ when x is scalar.\n",
    "\n",
    "As such, by $\\frac{d (x^Ty)}{dx} = y$ and $\\frac{d (x^TAx)}{dx} = (A+A^T)x$ , we have a stationary point when\n",
    "\n",
    "$$\n",
    "\\begin{aligned}\n",
    "\\frac{dJ(w)}{dw}&= 0 &&\\Leftrightarrow \\\\\n",
    "\\frac{d}{dw} w^TX^TXw& - 2 \\frac{d}{dw}w^TX^Ty + \\underbrace{\\frac{d}{dw}y^Ty}_{=0}=0 &&\\Leftrightarrow \\\\\n",
    "\\underbrace{(X^TX + X^TX)}_{2X^TX}w& - 2 X^Ty=0 &&\\Leftrightarrow \\\\\n",
    "w&=(X^TX)^{-1}X^Ty\\\\\n",
    "\\end{aligned}\n",
    "$$"
   ]
  },
  {
   "cell_type": "markdown",
   "metadata": {},
   "source": [
    "This optimal $w$ can be calculated as such:\n",
    "\n",
    "$$\n",
    "X^TX = \\begin{bmatrix}\n",
    "1 & 1 & 1 \\\\\n",
    "0 & 6 & 7\n",
    "\\end{bmatrix}\n",
    "\\cdot\n",
    "\\begin{bmatrix}\n",
    "1 & 0\\\\\n",
    "1 & 6\\\\\n",
    "1 & 7\n",
    "\\end{bmatrix}\n",
    "=\n",
    "\\begin{bmatrix}\n",
    "3 & 13\\\\\n",
    "13 & 85\n",
    "\\end{bmatrix}\n",
    "$$"
   ]
  },
  {
   "cell_type": "markdown",
   "metadata": {},
   "source": [
    "By Cramer's rule, we can calculate the inverse $(X^TX)^{-1}$ as such\n",
    "\n",
    "$$\n",
    "\\begin{aligned}\n",
    "(X^TX)^{-1} &= \\frac{1}{\\underbrace{\\det{(X^TX)}}_{=3\\cdot85-13^2}} \\begin{bmatrix}\n",
    "85 & -13\\\\\n",
    "-13 & 3\n",
    "\\end{bmatrix} \\\\\n",
    "&=\\frac{1}{86} \\begin{bmatrix}\n",
    "85 & -13\\\\\n",
    "-13 & 3\n",
    "\\end{bmatrix}\n",
    "\\end{aligned}\n",
    "$$"
   ]
  },
  {
   "cell_type": "markdown",
   "metadata": {},
   "source": [
    "Finally, we have\n",
    "\n",
    "$$\n",
    "\\begin{aligned}\n",
    "w &= \\frac{1}{86}\n",
    "\\begin{bmatrix}\n",
    "85 & -13\\\\\n",
    "-13 & 3\n",
    "\\end{bmatrix}\n",
    "\\cdot\n",
    "\\begin{bmatrix}\n",
    "1 & 1 & 1 \\\\\n",
    "0 & 6 & 7\n",
    "\\end{bmatrix}\n",
    "\\cdot\n",
    "\\begin{bmatrix}\n",
    "6\\\\\n",
    "0\\\\\n",
    "0\n",
    "\\end{bmatrix} \\\\\n",
    "&= \\frac{1}{86}\n",
    "\\begin{bmatrix}\n",
    "85 & -13\\\\\n",
    "-13 & 3\n",
    "\\end{bmatrix}\n",
    "\\cdot\n",
    "\\begin{bmatrix}\n",
    "6\\\\\n",
    "0\\\\\n",
    "\\end{bmatrix} \\\\\n",
    "&= \\frac{1}{86}\n",
    "\\begin{bmatrix}\n",
    "510\\\\\n",
    "-78\\\\\n",
    "\\end{bmatrix} \\\\\n",
    "&\\approx\n",
    "\\begin{bmatrix}\n",
    "5.93\\\\\n",
    "-0.907\n",
    "\\end{bmatrix}\n",
    "\\end{aligned}\n",
    "$$"
   ]
  },
  {
   "cell_type": "markdown",
   "metadata": {},
   "source": [
    "\\newpage\n",
    "\n",
    "## (c)"
   ]
  },
  {
   "cell_type": "code",
   "execution_count": 24,
   "metadata": {},
   "outputs": [
    {
     "data": {
      "image/png": "[encoded data removed]",
      "text/plain": [
       "<Figure size 432x288 with 1 Axes>"
      ]
     },
     "metadata": {
      "needs_background": "light"
     },
     "output_type": "display_data"
    }
   ],
   "source": [
    "X = np.array([\n",
    "    [1,0],\n",
    "    [1,alpha],\n",
    "    [1,alpha+1]\n",
    "])\n",
    "y = [6,0,0]\n",
    "w = np.array([1/86*510,-1/86*78])\n",
    "\n",
    "plt.scatter(X.T[1], y)\n",
    "\n",
    "xl = [min(X.T[1]), max(X.T[1])]\n",
    "# y = w^T X\n",
    "yl = list(map(lambda x : w.dot([1, x]), xl))\n",
    "plt.plot(xl, yl)\n",
    "plt.show()"
   ]
  },
  {
   "cell_type": "markdown",
   "metadata": {},
   "source": [
    "\\newpage\n",
    "\n",
    "# Support Vector Machine\n",
    "\n",
    "## (a)"
   ]
  },
  {
   "cell_type": "code",
   "execution_count": 25,
   "metadata": {},
   "outputs": [
    {
     "data": {
      "image/png": "[encoded data removed]",
      "text/plain": [
       "<Figure size 432x288 with 1 Axes>"
      ]
     },
     "metadata": {
      "needs_background": "light"
     },
     "output_type": "display_data"
    }
   ],
   "source": [
    "X = np.array([\n",
    "    [-4, 12],\n",
    "    [0, alpha],\n",
    "    [10-alpha, 0],\n",
    "    [13, -1],\n",
    "])\n",
    "\n",
    "y = np.array([1,1,-1,-1])\n",
    "\n",
    "plt.scatter(X.T[0], X.T[1], c = y)\n",
    "plt.show()"
   ]
  },
  {
   "cell_type": "markdown",
   "metadata": {},
   "source": [
    "Yes it is linearly separable!\n",
    "\n",
    "\\newpage\n",
    "\n",
    "## (b)\n",
    "\n",
    "The primal problem is the following:\n",
    "\n",
    "$$\n",
    "\\begin{aligned}\n",
    "&\\underset{w,b}{\\max} &\\frac{1}{2}||w||^2 \\\\\n",
    "&\\text{s.t.} & y^{(i)}(w^Tx^{(i)}+b)\\ge1, &&i=1,\\dots,m\n",
    "\\end{aligned}\n",
    "$$"
   ]
  },
  {
   "cell_type": "markdown",
   "metadata": {},
   "source": [
    "which we can write explicitly as:\n",
    "\n",
    "$$\n",
    "\\begin{aligned}\n",
    "&\\underset{w,b}{\\max} &&\\frac{1}{2}(w_1^2+w_2^2) \\\\\n",
    "&\\text{s.t.}\n",
    " &&-4w_1+12w_2+b\\ge1 \\\\\n",
    "&&&6w_2+b\\ge1\\\\\n",
    "&&&-(4w_1+b)\\ge1\\\\\n",
    "&&&-(13w_1-w_2+b)\\ge1\n",
    "\\end{aligned}\n",
    "$$"
   ]
  },
  {
   "cell_type": "markdown",
   "metadata": {},
   "source": [
    "## (c)"
   ]
  },
  {
   "cell_type": "code",
   "execution_count": 26,
   "metadata": {},
   "outputs": [
    {
     "data": {
      "image/png": "[encoded data removed]",
      "text/plain": [
       "<Figure size 432x288 with 1 Axes>"
      ]
     },
     "metadata": {
      "needs_background": "light"
     },
     "output_type": "display_data"
    }
   ],
   "source": [
    "support_vecs = [1,2]\n",
    "\n",
    "plt.scatter(X.T[0], X.T[1], c = y, s=[100 if i in support_vecs else 10 for i in range(len(X.T[0]))])\n",
    "plt.show()"
   ]
  },
  {
   "cell_type": "markdown",
   "metadata": {},
   "source": [
    "The support vectors are marked as the bigger dots above. These are the points closest to the \"boundary\" of the classes.\n",
    "\n",
    "The lowest margin separating hyperplane is found as the line going perpendicular to the vector between the support vectors, right in the middle between them.\n",
    "\n",
    "A normalized such $w$ may be found by taking $\\frac{s_1-s_2}{||s_1-s_2||}$. $b$ is calculated by solving the equation (the distance being the same to both support vectors):\n",
    "\n",
    "$$\n",
    "\\begin{aligned}\n",
    "w^Tx_1+b&=-(w^Tx_2+b) \\Leftrightarrow\\\\\n",
    "b&=\\frac{1}{2}(-w^Tx_2-w^Tx_1)\n",
    "\\end{aligned}\n",
    "$$"
   ]
  },
  {
   "cell_type": "code",
   "execution_count": 27,
   "metadata": {},
   "outputs": [
    {
     "name": "stdout",
     "output_type": "stream",
     "text": [
      "w = [-0.5547002   0.83205029]\n",
      "b = -1.386750490563073\n"
     ]
    },
    {
     "data": {
      "image/png": "[encoded data removed]",
      "text/plain": [
       "<Figure size 432x288 with 1 Axes>"
      ]
     },
     "metadata": {
      "needs_background": "light"
     },
     "output_type": "display_data"
    }
   ],
   "source": [
    "s1, s2 = X[support_vecs]\n",
    "\n",
    "w = (s1 - s2) / np.linalg.norm(s1 - s2)\n",
    "b = 1/2*(-w.dot(s1)-w.dot(s2))\n",
    "\n",
    "print(f'w = {w}')\n",
    "print(f'b = {b}')\n",
    "\n",
    "plt.scatter(X.T[0], X.T[1], c = y, s=[100 if i in support_vecs else 10 for i in range(len(X.T[0]))])\n",
    "\n",
    "x1 = np.array([-5, 14])\n",
    "x2 = (-b - x1 * w[0]) / w[1]\n",
    "\n",
    "plt.plot(x1, x2)\n",
    "plt.title(\"Maximum margin separating hyperplane\")\n",
    "plt.show()"
   ]
  },
  {
   "cell_type": "markdown",
   "metadata": {},
   "source": [
    "\\newpage\n",
    "\n",
    "## (d)\n",
    "\n",
    "Let $i\\in S = \\{1,2\\}$ be the indices of the support vectors. We then have $\\alpha_i>0$ for $i \\in S$ and $\\alpha_i=0$ else. We have $x_1=(0,6)^T$, $x_2=(4,0)^T$, $y_1=1$ and $y_2=-1$.\n",
    "\n",
    "\n",
    "With the given $x$ and $y$ values, and two chosen support vectors, the dual optimization problem\n",
    "$$\n",
    "\\begin{aligned}\n",
    "\\underset{\\alpha}{\\max}\\: &W(\\alpha)=\\sum_{i=1}^m \\alpha_i -\\frac{1}{2}\\sum_{i,j=1}^m y^{(i)} y^{(j)} \\alpha_i \\alpha_j (x^{(i)} \\cdot x^{(j)}) \\\\\n",
    "\\text{s.t. } &\\alpha_i \\ge 0, i = 1,\\dots,m \\\\\n",
    "&\\sum_{i=1}^m\\alpha_i y^{(i)} = 0\n",
    "\\end{aligned}\n",
    "$$"
   ]
  },
  {
   "cell_type": "markdown",
   "metadata": {},
   "source": [
    "simplifies to\n",
    "$$\n",
    "\\begin{aligned}\n",
    "\\underset{\\alpha}{\\max}\\: &W(\\alpha)=\\alpha_1+\\alpha_2 -\\frac{1}{2}(\\alpha_1^2\\underbrace{||x_1||^2}_{=36}+\\alpha_2^2\\underbrace{||x_2||^2}_{=16}-2\\alpha_1\\alpha_2\\underbrace{x_1^Tx_2}_{=0}) \\\\\n",
    "\\text{s.t. } &\\alpha_i \\ge 0, i = 1,\\dots,m \\\\\n",
    "&\\alpha_1=\\alpha_2\n",
    "\\end{aligned}\n",
    "$$"
   ]
  },
  {
   "cell_type": "markdown",
   "metadata": {},
   "source": [
    "Let $a=\\alpha_1=\\alpha_2$, we then have $W(a)=2a-\\frac{a^2}{2}(||x_1||^2+||x_2||^2-2x_1^Tx_2)$.\n",
    "\n",
    "We can then find the minimum by finding a stationary point of $W(\\alpha)$, as it is of a single variable and unconstrained.\n",
    "\n",
    "$$\n",
    "\\begin{aligned}\n",
    "\\frac{dW}{da}&=0 &&\\Leftrightarrow \\\\\n",
    "2-(||x_1||^2+||x_2||^2-2x_1^Tx_2)a&= 0 &&\\Leftrightarrow \\\\\n",
    "a& = \\frac{2}{||x_1||^2+||x_2||^2-2x_1^Tx_2} &&\\\\\n",
    "& = \\frac{2}{52}=\\frac{1}{26} \\\\\n",
    "\\end{aligned}\n",
    "$$\n"
   ]
  },
  {
   "cell_type": "markdown",
   "metadata": {},
   "source": [
    "Further, we have $w=\\sum_n \\alpha_n y^{(n)}x_n=a(0,6)^T-a(4,0)^T = \\frac{1}{13}(-2,3)^T$ by the optimum critera.\n",
    "\n",
    "Finally, we can calculate $b$ by"
   ]
  },
  {
   "cell_type": "markdown",
   "metadata": {},
   "source": [
    "$$\n",
    "\\begin{aligned}\n",
    "b &= \\frac{1}{|S|}\\sum_{n\\in S}[y^{(n)}-(\\sum_{k\\in S}\\alpha_n y^{(n)}x_n)^Tx_n] \\\\\n",
    "&= \\frac{1}{2}[1-\\underbrace{w^Tx_1}_{=\\frac{18}{13}}-1-\\underbrace{w^Tx_2}_{=\\frac{-8}{13}}] \\\\\n",
    "&=-\\frac{5}{13}\n",
    "\\end{aligned}\n",
    "$$"
   ]
  },
  {
   "cell_type": "code",
   "execution_count": 28,
   "metadata": {},
   "outputs": [
    {
     "name": "stdout",
     "output_type": "stream",
     "text": [
      "w = [-0.15384615  0.23076923]\n",
      "b = -0.38461538461538464\n"
     ]
    },
    {
     "data": {
      "image/png": "[encoded data removed]",
      "text/plain": [
       "<Figure size 432x288 with 1 Axes>"
      ]
     },
     "metadata": {
      "needs_background": "light"
     },
     "output_type": "display_data"
    }
   ],
   "source": [
    "w = 1/13*np.array([-2,3])\n",
    "b = -5/13\n",
    "\n",
    "print(f'w = {w}')\n",
    "print(f'b = {b}')\n",
    "\n",
    "plt.scatter(X.T[0], X.T[1], c = y, s=[100 if i in support_vecs else 10 for i in range(len(X.T[0]))])\n",
    "\n",
    "x1 = np.array([-5, 14])\n",
    "x2 = (-b - x1 * w[0]) / w[1]\n",
    "\n",
    "plt.plot(x1, x2)\n",
    "plt.title(\"Maximum margin separating hyperplane by solution of dual problem\")\n",
    "plt.show()"
   ]
  }
 ],
 "metadata": {
  "kernelspec": {
   "display_name": "Python 3",
   "language": "python",
   "name": "python3"
  },
  "language_info": {
   "codemirror_mode": {
    "name": "ipython",
    "version": 3
   },
   "file_extension": ".py",
   "mimetype": "text/x-python",
   "name": "python",
   "nbconvert_exporter": "python",
   "pygments_lexer": "ipython3",
   "version": "3.7.4"
  }
 },
 "nbformat": 4,
 "nbformat_minor": 2
}
