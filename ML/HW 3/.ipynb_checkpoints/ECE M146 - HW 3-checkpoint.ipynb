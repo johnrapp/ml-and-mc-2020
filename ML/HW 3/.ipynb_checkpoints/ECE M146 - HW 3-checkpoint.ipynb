{
 "cells": [
  {
   "cell_type": "markdown",
   "metadata": {},
   "source": [
    "# ECE M146 - HW 3\n",
    "John Rapp Farnes | 405461225"
   ]
  },
  {
   "cell_type": "markdown",
   "metadata": {},
   "source": [
    "## 1.\n",
    "$$\n",
    "J=-\\sum_{n=1}^{N}[y_n\\log h_w(x_n)+(1-y_n)\\log (1-h_w(x_n))]+\\frac{1}{2}\\underbrace{\\sum_i w_i ^2}_{=w^Tw}\n",
    "$$\n",
    "\n",
    "We have \n",
    "$$\n",
    "\\frac{dh_w(x)}{dw}=\\sigma' (w^Tx)x=\\sigma(w^Tx)(1-\\sigma (w^Tx))x\n",
    "$$\n",
    "and\n",
    "$$\n",
    "\\frac{dw^Tw}{dw}=2w\n",
    "$$\n",
    "\n",
    "\n",
    "Therefore \n",
    "\n",
    "$$\n",
    "\\begin{aligned}\n",
    "\\frac{dJ}{dw}&=-\\sum_{n=1}^{N}[y_n \\frac{1}{\\sigma(w^Tx_n)}  \\sigma(w^Tx_n)(1-\\sigma (w^Tx_n))x_n-(1-y_n) \\frac{1}{1-\\sigma (w^Tx_n)}  \\sigma(w^Tx_n)(1-\\sigma (w^Tx_n))x_n]+w\\\\\n",
    "&=-\\sum_{n=1}^{N}[y_n (1-h_w (x_n))x_n-(1-y_n) h_w(x_n)x_n]+w\\\\\n",
    "&=-\\sum_{n=1}^{N}[y_n x_n -h_w (x_n)y_n x_n- h_w(x_n)x_n + h_w(x_n) y_n x_n]+w\\\\\n",
    "&=-\\sum_{n=1}^{N}[(y_n -h_w(x_n))x_n]+w\\\\\n",
    "\\end{aligned}\n",
    "$$\n",
    "\n",
    "As such, for gradient descent, we have the update rule\n",
    "\n",
    "$$\n",
    "w_{k+1}=w_k-\\eta \\frac{dJ}{dw} = w_k+\\eta \\Big[\\sum_{n=1}^{N}[(y_n -h_w(x_n))x_n]-w\\Big]\\\\\n",
    "$$"
   ]
  },
  {
   "cell_type": "markdown",
   "metadata": {},
   "source": [
    "## 2.\n",
    "We are optimizing, by MAP:\n",
    "\n",
    "$$\n",
    "w^*=\\underset{w}{\\arg \\max} f(w)\\prod_{i=1}^nP(y_i \\vert x_i, w)=\\underset{w}{\\arg \\min} (-f(w)\\prod_{i=1}^nP(y_i \\vert x_i, w))\n",
    "$$\n",
    "\n",
    "As $\\log x$ is a monotone incrasing function, this is equivalent to\n",
    "\n",
    "$$\n",
    "\\begin{aligned}\n",
    "w^*&=\\underset{w}{\\arg \\min} (-\\log \\Big[f(w)\\prod_{i=1}^nP(y_i \\vert x_i, w)\\Big]) \\\\\n",
    "&=\\underset{w}{\\arg \\min} (-\\log f(w)-\\sum_{i=1}^n\\log P(y_i \\vert x_i, w)) \\\\\n",
    "&=\\underset{w}{\\arg \\min} \\: J(w)\n",
    "\\end{aligned}\n",
    "$$\n",
    "\n",
    "We have\n",
    "$$\n",
    "\\log P(y_i \\vert x_i, w) = y_i \\log h_w(x_i)+(1-y_i) \\log (1-h_w(x_i))\n",
    "$$\n",
    "\n",
    "and\n",
    "$$\n",
    "\\log f(x) = \\log \\Big[\\frac{1}{(2\\pi)^{\\frac{m}{2}}} \\exp \\big(-\\sum_{i=1}^m \\frac{w_i^2}{2}\\big) \\Big] = -\\frac{m}{2}\\log 2\\pi -\\sum_{i=1}^m \\frac{w_i^2}{2}\n",
    "$$\n",
    "\n",
    "As such, we have\n",
    "\n",
    "$$\n",
    "\\begin{aligned}\n",
    "J &= -\\sum_{n=1}^{N}[y_n \\log h_w(x_n)+(1-y_n) \\log (1-h_w(x_n))]-[-\\frac{m}{2}\\log2\\pi -\\sum_{i=1}^m \\frac{w_i^2}{2}] \\\\\n",
    "&= -\\sum_{n=1}^{N}[y_n \\log h_w(x_n)+(1-y_n) \\log (1-h_w(x_n))] +\\frac{1}{2}\\sum_{i=1}^m w_i^2+\\frac{m}{2}\\log2\\pi\n",
    "\\end{aligned}\n",
    "$$\n",
    "\n",
    "Comparing to the loss function in 1., we can see that this function differs only by an added constant $N\\frac{m}{2}\\log2\\pi$. These functions will have the same gradient, as the constant will be equal to 0 in the derivatives and gradient, and are therefore equivalent."
   ]
  },
  {
   "cell_type": "markdown",
   "metadata": {},
   "source": [
    "\\newpage\n",
    "\n",
    "## 3.\n",
    "\n",
    "### (a)\n",
    "Entropy is defined as $H(X)=-\\sum_{k=1}^{K}p_k \\log p_k$. For $X=\\textit{IsGoodRestaurant}$ we have $P(X=1)=\\frac{6}{8}$, and therefore $P(X=0)=1-P(X=1)=\\frac{2}{8}$. As such:\n",
    "\n",
    "$$\n",
    "H(\\textit{IsGoodRestaurant})=-\\frac{6}{8}\\log \\frac{6}{8}-\\frac{2}{8}\\log \\frac{2}{8}\n",
    "$$\n",
    "\n",
    "### (b)\n",
    "We have $H(Y\\vert X)=\\sum_j H(Y\\vert X=x_j)P(X=x_j)$, where \n",
    "$$\n",
    "\\begin{aligned}\n",
    "H(Y\\vert X=x_j)&=-\\sum_{k=1}^{K}P(Y=y_k\\vert X=x_j)\\log P(Y=y_k\\vert X=x_j) \\\\\n",
    "&=-\\sum_{k=1}^{K}\\frac{P(Y=y_k, X=x_j)}{P(X=x_j)}\\log \\frac{P(Y=y_k, X=x_j)}{P(X=x_j)}\n",
    "\\end{aligned}\n",
    "$$\n",
    "\n",
    "As such, we can calculate e.g.:\n",
    "\n",
    "$$\n",
    "\\begin{aligned}\n",
    "&H(\\textit{IsGoodRestaurant}|\\textit{HasOutdoorSeating} = 0) \\\\\n",
    "&=-\\frac{P(\\textit{IsGoodRestaurant}=1, \\textit{HasOutdoorSeating}=0)}{P(\\textit{HasOutdoorSeating}=0)}\\log \\frac{P(\\textit{IsGoodRestaurant}=1, \\textit{HasOutdoorSeating}=0)}{P(\\textit{HasOutdoorSeating}=0)} \\\\\n",
    "&-\\frac{P(\\textit{IsGoodRestaurant}=0, \\textit{HasOutdoorSeating}=0)}{P(\\textit{HasOutdoorSeating}=0)}\\log \\frac{P(\\textit{IsGoodRestaurant}=0, \\textit{HasOutdoorSeating}=0)}{P(\\textit{HasOutdoorSeating}=0)} \\\\\n",
    "&=-\\frac{3 / 8}{3 / 8}\\log \\frac{3 / 8}{3 / 8} - \\frac{0 / 8}{3 / 8}\\log \\frac{0 / 8}{3 / 8} \\\\\n",
    "&=-\\frac{3 / 8}{3 / 8}\\log \\frac{3 / 8}{3 / 8} = 0\\\\\n",
    "\\end{aligned}\n",
    "$$\n",
    "\n",
    "I will do the rest of the calculations in Python, as this calculation will be made many times, as well as to reduce the risk of making mistakes."
   ]
  },
  {
   "cell_type": "code",
   "execution_count": 1,
   "metadata": {},
   "outputs": [],
   "source": [
    "import pandas as pd\n",
    "import numpy as np\n",
    "\n",
    "table = {\n",
    "    'HasOutdoorSeating': [0,1,0,1,1,1,1,0],\n",
    "    'HasBar':            [0,1,1,0,1,0,1,0],\n",
    "    'IsClean':           [0,0,1,0,1,1,0,1],\n",
    "    'HasGoodAtmosphere': [1,0,1,1,0,0,1,1],\n",
    "    'IsGoodRestaurant':  [1,0,1,1,0,1,1,1]\n",
    "}\n",
    "table = pd.DataFrame(data=table)"
   ]
  },
  {
   "cell_type": "code",
   "execution_count": 2,
   "metadata": {},
   "outputs": [
    {
     "data": {
      "text/html": [
       "<div>\n",
       "<style scoped>\n",
       "    .dataframe tbody tr th:only-of-type {\n",
       "        vertical-align: middle;\n",
       "    }\n",
       "\n",
       "    .dataframe tbody tr th {\n",
       "        vertical-align: top;\n",
       "    }\n",
       "\n",
       "    .dataframe thead th {\n",
       "        text-align: right;\n",
       "    }\n",
       "</style>\n",
       "<table border=\"1\" class=\"dataframe\">\n",
       "  <thead>\n",
       "    <tr style=\"text-align: right;\">\n",
       "      <th>IsGoodRestaurant</th>\n",
       "      <th>0</th>\n",
       "      <th>1</th>\n",
       "      <th>All</th>\n",
       "    </tr>\n",
       "    <tr>\n",
       "      <th>HasOutdoorSeating</th>\n",
       "      <th></th>\n",
       "      <th></th>\n",
       "      <th></th>\n",
       "    </tr>\n",
       "  </thead>\n",
       "  <tbody>\n",
       "    <tr>\n",
       "      <th>0</th>\n",
       "      <td>0.00</td>\n",
       "      <td>0.375</td>\n",
       "      <td>0.375</td>\n",
       "    </tr>\n",
       "    <tr>\n",
       "      <th>1</th>\n",
       "      <td>0.25</td>\n",
       "      <td>0.375</td>\n",
       "      <td>0.625</td>\n",
       "    </tr>\n",
       "    <tr>\n",
       "      <th>All</th>\n",
       "      <td>0.25</td>\n",
       "      <td>0.750</td>\n",
       "      <td>1.000</td>\n",
       "    </tr>\n",
       "  </tbody>\n",
       "</table>\n",
       "</div>"
      ],
      "text/plain": [
       "IsGoodRestaurant      0      1    All\n",
       "HasOutdoorSeating                    \n",
       "0                  0.00  0.375  0.375\n",
       "1                  0.25  0.375  0.625\n",
       "All                0.25  0.750  1.000"
      ]
     },
     "execution_count": 2,
     "metadata": {},
     "output_type": "execute_result"
    }
   ],
   "source": [
    "crosstab = pd.crosstab(table['HasOutdoorSeating'], table['IsGoodRestaurant'], margins=True, normalize=True)\n",
    "crosstab"
   ]
  },
  {
   "cell_type": "code",
   "execution_count": 3,
   "metadata": {},
   "outputs": [
    {
     "name": "stdout",
     "output_type": "stream",
     "text": [
      "P_Y1_X0=1.0\n",
      "P_Y0_X0=0.0\n",
      "H_Y_X0=-0.0\n"
     ]
    }
   ],
   "source": [
    "P_Y1_X0 = crosstab[1][0]/crosstab[\"All\"][0]\n",
    "print(f'P_Y1_X0={P_Y1_X0}')\n",
    "\n",
    "P_Y0_X0 = crosstab[0][0]/crosstab[\"All\"][0]\n",
    "print(f'P_Y0_X0={P_Y0_X0}')\n",
    "\n",
    "H_Y_X0 = -(0 if P_Y1_X0 == 0 else P_Y1_X0*np.log2(P_Y1_X0)) \\\n",
    "        -(0 if P_Y0_X0 == 0 else P_Y0_X0*np.log2(P_Y0_X0))\n",
    "\n",
    "print(f'H_Y_X0={H_Y_X0}')"
   ]
  },
  {
   "cell_type": "code",
   "execution_count": 4,
   "metadata": {},
   "outputs": [
    {
     "name": "stdout",
     "output_type": "stream",
     "text": [
      "P_Y1_X1=0.6\n",
      "P_Y0_X1=0.4\n",
      "H_Y_X1=0.9709505944546686\n"
     ]
    }
   ],
   "source": [
    "P_Y1_X1 = crosstab[1][1]/crosstab[\"All\"][1]\n",
    "print(f'P_Y1_X1={P_Y1_X1}')\n",
    "\n",
    "P_Y0_X1 = crosstab[0][1]/crosstab[\"All\"][1]\n",
    "print(f'P_Y0_X1={P_Y0_X1}')\n",
    "\n",
    "H_Y_X1 = -(0 if P_Y1_X1 == 0 else P_Y1_X1*np.log2(P_Y1_X1)) \\\n",
    "        -(0 if P_Y0_X1 == 0 else P_Y0_X1*np.log2(P_Y0_X1))\n",
    "\n",
    "print(f'H_Y_X1={H_Y_X1}')"
   ]
  },
  {
   "cell_type": "code",
   "execution_count": 5,
   "metadata": {},
   "outputs": [
    {
     "name": "stdout",
     "output_type": "stream",
     "text": [
      "P_X0=0.375\n",
      "P_X1=0.625\n",
      "H_Y_X=0.6068441215341679\n"
     ]
    }
   ],
   "source": [
    "P_X0 = crosstab[\"All\"][0]\n",
    "print(f'P_X0={P_X0}')\n",
    "\n",
    "P_X1 = crosstab[\"All\"][1]\n",
    "print(f'P_X1={P_X1}')\n",
    "\n",
    "H_Y_X = P_X0 * H_Y_X0 + P_X1 * H_Y_X1\n",
    "print(f'H_Y_X={H_Y_X}')"
   ]
  },
  {
   "cell_type": "markdown",
   "metadata": {},
   "source": [
    "### (c)\n",
    "Using the method in (b), we can calculate all the entropies using a python function:"
   ]
  },
  {
   "cell_type": "code",
   "execution_count": 6,
   "metadata": {},
   "outputs": [
    {
     "data": {
      "text/plain": [
       "{'IsClean': 0.8112781244591328,\n",
       " 'HasOutdoorSeating': 0.6068441215341679,\n",
       " 'HasGoodAtmosphere': 0.3443609377704336,\n",
       " 'HasBar': 0.5}"
      ]
     },
     "execution_count": 6,
     "metadata": {},
     "output_type": "execute_result"
    }
   ],
   "source": [
    "def get(tab, c, r):\n",
    "    return tab[c][r] if (c in tab and r in tab[c]) else 0\n",
    "\n",
    "def entropy(tab):\n",
    "    P_X0 = get(tab, 'All', 0)\n",
    "    P_Y1_X0 = get(tab, 1, 0)/P_X0 if P_X0 != 0 else 0 \n",
    "    P_Y0_X0 = get(tab, 0, 0)/P_X0 if P_X0 != 0 else 0 \n",
    "\n",
    "    H_Y_X0 = -(0 if P_Y1_X0 == 0 else P_Y1_X0*np.log2(P_Y1_X0)) \\\n",
    "            -(0 if P_Y0_X0 == 0 else P_Y0_X0*np.log2(P_Y0_X0))\n",
    "\n",
    "    P_X1 = get(tab, 'All', 1)\n",
    "    P_Y1_X1 = get(tab, 1, 1)/P_X1 if P_X1 != 0 else 0 \n",
    "\n",
    "    P_Y0_X1 = get(tab, 0, 1)/P_X1 if P_X1 != 0 else 0 \n",
    "\n",
    "    H_Y_X1 = -(0 if P_Y1_X1 == 0 else P_Y1_X1*np.log2(P_Y1_X1)) \\\n",
    "            -(0 if P_Y0_X1 == 0 else P_Y0_X1*np.log2(P_Y0_X1))\n",
    "\n",
    "    H_Y_X = P_X0 * H_Y_X0 + P_X1 * H_Y_X1\n",
    "    \n",
    "    return H_Y_X\n",
    "\n",
    "attributes = {\n",
    "    'HasOutdoorSeating',\n",
    "    'HasBar',\n",
    "    'IsClean',\n",
    "    'HasGoodAtmosphere'\n",
    "}\n",
    "\n",
    "entropies = { k: entropy(pd.crosstab(table[k], table['IsGoodRestaurant'], margins=True, normalize=True)) for k in attributes }\n",
    "\n",
    "entropies"
   ]
  },
  {
   "cell_type": "markdown",
   "metadata": {},
   "source": [
    "### (d)\n",
    "Using the entropies calculated in (c), the information gains can easily be calculated as such:"
   ]
  },
  {
   "cell_type": "code",
   "execution_count": 7,
   "metadata": {},
   "outputs": [
    {
     "data": {
      "text/plain": [
       "{'IsClean': 0.0,\n",
       " 'HasOutdoorSeating': 0.20443400292496494,\n",
       " 'HasGoodAtmosphere': 0.46691718668869925,\n",
       " 'HasBar': 0.31127812445913283}"
      ]
     },
     "execution_count": 7,
     "metadata": {},
     "output_type": "execute_result"
    }
   ],
   "source": [
    "def entropy_Y(Y):\n",
    "    P_Y0 = sum(Y == 0) / len(Y)\n",
    "    if P_Y0 == 1 or P_Y0 == 0: return 0 \n",
    "    return -P_Y0*np.log2(P_Y0) -(1-P_Y0)*np.log2((1-P_Y0))\n",
    "\n",
    "H_Y = entropy_Y(table['IsGoodRestaurant'])\n",
    "\n",
    "information_gains = { k: H_Y - entropy for k, entropy in entropies.items() }\n",
    "\n",
    "information_gains"
   ]
  },
  {
   "cell_type": "markdown",
   "metadata": {},
   "source": [
    "### (e)\n",
    "\n",
    "As *HasGoodAtmosphere* has the highest information gain, splitting on this attribute will give us the most \"gained knowledge\" about wether the restaurant is good, and therefore this is the attribute we are splitting on.\n",
    "\n",
    "### (f)"
   ]
  },
  {
   "cell_type": "code",
   "execution_count": 8,
   "metadata": {},
   "outputs": [
    {
     "name": "stdout",
     "output_type": "stream",
     "text": [
      "   HasOutdoorSeating  HasBar  IsClean  HasGoodAtmosphere  IsGoodRestaurant\n",
      "1                  1       1        0                  0                 0\n",
      "4                  1       1        1                  0                 0\n",
      "5                  1       0        1                  0                 1\n",
      "   HasOutdoorSeating  HasBar  IsClean  HasGoodAtmosphere  IsGoodRestaurant\n",
      "0                  0       0        0                  1                 1\n",
      "2                  0       1        1                  1                 1\n",
      "3                  1       0        0                  1                 1\n",
      "6                  1       1        0                  1                 1\n",
      "7                  0       0        1                  1                 1\n"
     ]
    }
   ],
   "source": [
    "# Divide into two sets, depending on vale of HasGoodAtmosphere\n",
    "\n",
    "branch1 = table.loc[table.HasGoodAtmosphere == 0]\n",
    "print(branch1)\n",
    "\n",
    "branch2 = table.loc[table.HasGoodAtmosphere == 1]\n",
    "print(branch2)"
   ]
  },
  {
   "cell_type": "code",
   "execution_count": 9,
   "metadata": {},
   "outputs": [
    {
     "name": "stdout",
     "output_type": "stream",
     "text": [
      "H(IsGood|branch1) = 0.9182958340544896\n",
      "H(IsGood|branch2) = 0\n"
     ]
    }
   ],
   "source": [
    "# Calculate the entropy of the sub branches:\n",
    "\n",
    "print(f'H(IsGood|branch1) = {entropy_Y(branch1.IsGoodRestaurant)}')\n",
    "print(f'H(IsGood|branch2) = {entropy_Y(branch2.IsGoodRestaurant)}')"
   ]
  },
  {
   "cell_type": "code",
   "execution_count": 10,
   "metadata": {},
   "outputs": [
    {
     "data": {
      "text/plain": [
       "{'IsClean': 0.2516291673878229,\n",
       " 'HasOutdoorSeating': 0.0,\n",
       " 'HasBar': 0.9182958340544896}"
      ]
     },
     "execution_count": 10,
     "metadata": {},
     "output_type": "execute_result"
    }
   ],
   "source": [
    "# Branch 1 has entropy > 0, we will therefore continue splitting.\n",
    "def get_information_gains(tab, attributes):\n",
    "    entropies = { k: entropy(pd.crosstab(tab[k], tab['IsGoodRestaurant'], margins=True, normalize=True)) for k in attributes }\n",
    "\n",
    "    H_Y = entropy_Y(tab['IsGoodRestaurant'])\n",
    "\n",
    "    information_gains = { k: H_Y - entropy for k, entropy in entropies.items() }\n",
    "    return information_gains\n",
    "\n",
    "\n",
    "get_information_gains(branch1, {\n",
    "    'HasOutdoorSeating',\n",
    "    'HasBar',\n",
    "    'IsClean',\n",
    "})"
   ]
  },
  {
   "cell_type": "code",
   "execution_count": 11,
   "metadata": {},
   "outputs": [
    {
     "name": "stdout",
     "output_type": "stream",
     "text": [
      "   HasOutdoorSeating  HasBar  IsClean  HasGoodAtmosphere  IsGoodRestaurant\n",
      "5                  1       0        1                  0                 1\n",
      "   HasOutdoorSeating  HasBar  IsClean  HasGoodAtmosphere  IsGoodRestaurant\n",
      "1                  1       1        0                  0                 0\n",
      "4                  1       1        1                  0                 0\n"
     ]
    }
   ],
   "source": [
    "# HasBar has biggest gain, split on this branch\n",
    "\n",
    "branch11 = branch1.loc[branch1.HasBar == 0]\n",
    "print(branch11)\n",
    "\n",
    "branch12 = branch1.loc[branch1.HasBar == 1]\n",
    "print(branch12)"
   ]
  },
  {
   "cell_type": "code",
   "execution_count": 12,
   "metadata": {},
   "outputs": [
    {
     "name": "stdout",
     "output_type": "stream",
     "text": [
      "H(IsGood|branch11) = 0\n",
      "H(IsGood|branch12) = 0\n"
     ]
    }
   ],
   "source": [
    "# Calculate the entropy of the sub branches:\n",
    "\n",
    "print(f'H(IsGood|branch11) = {entropy_Y(branch11.IsGoodRestaurant)}')\n",
    "print(f'H(IsGood|branch12) = {entropy_Y(branch12.IsGoodRestaurant)}')"
   ]
  },
  {
   "cell_type": "code",
   "execution_count": 13,
   "metadata": {},
   "outputs": [
    {
     "name": "stdout",
     "output_type": "stream",
     "text": [
      "P(IsGood=1|branch11) = 1.0\n",
      "P(IsGood=1|branch12) = 0.0\n"
     ]
    }
   ],
   "source": [
    "# Entropy = 0 for both subbranches => no more splits on this branch\n",
    "\n",
    "# We will therefore classify all the observations in this branch as the option with the highest sample probability\n",
    "\n",
    "print(f'P(IsGood=1|branch11) = {sum(branch11.IsGoodRestaurant == 1) / len(branch11.IsGoodRestaurant)}')\n",
    "print(f'P(IsGood=1|branch12) = {sum(branch12.IsGoodRestaurant == 1) / len(branch12.IsGoodRestaurant)}')"
   ]
  },
  {
   "cell_type": "code",
   "execution_count": 14,
   "metadata": {},
   "outputs": [
    {
     "name": "stdout",
     "output_type": "stream",
     "text": [
      "P(IsGood=1|branch2) = 1.0\n"
     ]
    }
   ],
   "source": [
    "# As the entropy for branch 2 = 0, we will do the same here\n",
    "print(f'P(IsGood=1|branch2) = {sum(branch2.IsGoodRestaurant == 1) / len(branch2.IsGoodRestaurant)}')"
   ]
  },
  {
   "cell_type": "code",
   "execution_count": 15,
   "metadata": {},
   "outputs": [],
   "source": [
    "# The final decision tree can be visualized as such:\n",
    "    \n",
    "# HasGoodAtmosphere == 1 ?\n",
    "#     Yes:\n",
    "#         => IsGoodRestaurant == 1\n",
    "#     No: \n",
    "#         HasBar == 1 ?:\n",
    "#             Yes:\n",
    "#                 => IsGoodRestaurant == 0\n",
    "#             No: \n",
    "#                 => IsGoodRestaurant == 1"
   ]
  },
  {
   "cell_type": "markdown",
   "metadata": {},
   "source": [
    "In summary, a given restaurant is considered good if it either has a good atmosphere, or has a bad atmosphere but doesn't have a bar."
   ]
  },
  {
   "cell_type": "markdown",
   "metadata": {},
   "source": [
    "### (g)\n",
    "Applying the rule from (f), we have that both restaurant 9 and 10 are good, as they both have good atmospheres."
   ]
  },
  {
   "cell_type": "markdown",
   "metadata": {},
   "source": [
    "## 4.\n",
    "\n",
    "### (a)"
   ]
  },
  {
   "cell_type": "code",
   "execution_count": 16,
   "metadata": {},
   "outputs": [
    {
     "data": {
      "text/plain": [
       "Text(0.5, 0, 'q(V)')"
      ]
     },
     "execution_count": 16,
     "metadata": {},
     "output_type": "execute_result"
    }
   ],
   "source": [
    "import matplotlib.pyplot as plt\n",
    "\n",
    "gini = lambda x : 2*x*(1-x)\n",
    "entropy = lambda x : -(x*np.log2(x)+(1-x)*np.log2(1-x))\n",
    "\n",
    "x = np.linspace(0 + 0.001, 1 - 0.001)\n",
    "\n",
    "p_g,  = plt.plot(x, gini(x), label=\"Gini\")\n",
    "p_e,  = plt.plot(x, entropy(x), label=\"Entropy\")\n",
    "plt.legend(handles = [p_g, p_e])\n",
    "plt.xlabel('q(V)')"
   ]
  },
  {
   "cell_type": "markdown",
   "metadata": {},
   "source": [
    "Both looks similar in that they are both equal to 0 when $q(V)=1$ or $q(V)=0$, and then increases from there, reaching their peak when $q(V)=\\frac{1}{2}$. The main differences is that the binary entropy function is scaled and has a higher peak value, as well as looking \"rounder\"."
   ]
  },
  {
   "cell_type": "markdown",
   "metadata": {},
   "source": [
    "### (b)\n",
    "As $V_1 \\cup V_2=V$ and $V_1 \\cap V_2=\\varnothing$, we have\n",
    "$$\n",
    "p(V_1 \\cup V_2,V)=p(V,V) \\implies p(V_1,V)+p(V_2,V)-\\underbrace{p(V_1 \\cap V_2,V)}_{=0}=p(V,V)=1\n",
    "$$\n",
    "\n",
    "by the addition formula for the cardinality of the union of sets. Let $\\lambda = p(V_1)$, we then have $p(V_2) = 1-\\lambda$. As $0\\le p(X,Y) \\le 1\\:\\forall X,Y$ by the definition of cardinality, this also applies to $\\lambda$. Finally, we have $q(V) = p(V_1)q(V_1)+p(V_2)q(V_2)$ by the law of total probability.\n",
    "\n",
    "As such:\n",
    "\n",
    "$$\n",
    "\\begin{aligned}\n",
    "I(V_1, V_2, V) &= i(q(V)) − (p(V_1, V)i(q(V_1)) + p(V_2, V)i(q(V_2))) \\\\\n",
    "               &= i(\\lambda q(V_1)+(1-\\lambda) q(V_2)) − (\\lambda i(q(V_1)) + (1-\\lambda)i(q(V_2))) \\\\\n",
    "\\end{aligned}\n",
    "$$\n",
    "\n",
    "As $i(\\lambda q(V_1)+(1-\\lambda) q(V_2)) \\ge (\\lambda i(q(V_1)) + (1-\\lambda)i(q(V_2)))$ by concavity, we have $I(V_1, V_2, V) \\ge 0 \\:\\forall V_1,V_2,V$.\n"
   ]
  },
  {
   "cell_type": "markdown",
   "metadata": {},
   "source": [
    "### (c)\n",
    "\n",
    "$$\n",
    "\\begin{aligned}\n",
    "&H(x)&&=-(x\\log x+(1-x)\\log (1-x)) \\implies \\\\\n",
    "&\\frac{dH(x)}{dx}&&=-(\\log x+ 1 -\\log (1-x)-1) \\\\\n",
    "& &&=\\log (1-x) - \\log x \\implies \\\\\n",
    "&\\frac{d^2H(x)}{dx^2}&&=-\\frac{1}{1-x}-\\frac{1}{x} \\\\\n",
    "& &&=-\\frac{x}{x(1-x)}-\\frac{1-x}{x(1-x)} \\\\ \\\\\n",
    "& &&=-\\frac{1}{x(1-x)}\n",
    "\\end{aligned}\n",
    "$$\n",
    "\n",
    "We have for $r_1(x)=\\frac{1}{x} \\ge 0\\:\\forall x > 0$ and $r_2(x)=\\frac{1}{1-x} \\ge 0\\:\\forall x < 1$. As such: $\\frac{d^2H(x)}{dx^2}=-r_1(x)r_2(x)\\le0 \\: \\forall x \\in (0,1)$\n"
   ]
  },
  {
   "cell_type": "markdown",
   "metadata": {},
   "source": [
    "### (d)\n",
    "\n",
    "We have\n",
    "\n",
    "$$\n",
    "\\begin{aligned}\n",
    "&g(x)&&=2x(1-x) = 2x-2x^2 \\implies \\\\\n",
    "&\\frac{dg(x)}{dx}&&=2-4x \\implies \\\\\n",
    "&\\frac{d^2g(x)}{dx^2}&&=-4 \\\\\n",
    "& && \\le0 \\: \\forall x \\in (0,1)\n",
    "\\end{aligned}\n",
    "$$"
   ]
  },
  {
   "cell_type": "markdown",
   "metadata": {},
   "source": [
    "## 5.\n",
    "\n",
    "### (a)\n",
    "#### Example 1:\n",
    "We can ask $f_1 \\le 3$ and then $f_2 \\le 3$ to classify all points.\n",
    "\n",
    "#### Example 2:\n",
    "As the data is not axis aligned, and the classes are very \"close together\", the examples requires many questions to form a \"zig zag\" pattern. Two questions are not enough in this case.\n",
    "\n",
    "#### Example 3:\n",
    "We can ask is $f_2 \\le 3$ in the first branch, and then $f_1 \\le 2$ if $f_2 \\le 3$, and $f_1 \\ge 4$ if $f_2 \\gt3$ to classify all points.\n",
    "\n",
    "#### Example 4:\n",
    "As the data has too many \"areas\", and is not rectangular, depth 2 is not enough in this case."
   ]
  },
  {
   "cell_type": "markdown",
   "metadata": {},
   "source": [
    "### (b)\n",
    "As example 4 can be solved in 4 splits (see (c)), but examples 3 cannot, this is the most complicated case. As mentioned in (a), the data is not axis aligned, and the classes are very \"close together\", the examples requires many questions to form a \"zig zag\" pattern. To separate the blue are, you need to ask for example if $f_1 \\ge -0.25$, then if $f_2 \\ge -4$, then if $f_1 \\ge 0.5$ followed by $f_2 \\ge -4.5$. We are already at depth 4, and the boundary is far from covering all the points in the area."
   ]
  },
  {
   "cell_type": "markdown",
   "metadata": {},
   "source": [
    "### (c)\n",
    "With a depth 4 tree, example 4 can be classified. The three could for example look as such:"
   ]
  },
  {
   "cell_type": "code",
   "execution_count": 17,
   "metadata": {},
   "outputs": [],
   "source": [
    "# f_2 >=2 ?\n",
    "#     Yes:\n",
    "#         => red\n",
    "#     No:\n",
    "#         f1 <= -2 ?\n",
    "#         Yes:\n",
    "#             => red\n",
    "#         No:\n",
    "#             f2 <= -2 ?\n",
    "#             Yes:\n",
    "#                 => red\n",
    "#             No:\n",
    "#                 f1 >= 2 ?\n",
    "#                 Yes:\n",
    "#                     => red\n",
    "#                 No:\n",
    "#                     => blue"
   ]
  },
  {
   "cell_type": "markdown",
   "metadata": {},
   "source": [
    "Or summarized: if $f_2 \\ge 2$ or $f_2 \\le -2$ or $f_1 \\le -2$ or $f_1 \\ge 2$ then red, otherwise blue"
   ]
  },
  {
   "cell_type": "markdown",
   "metadata": {},
   "source": [
    "## 6.\n",
    "\n",
    "### (a)"
   ]
  },
  {
   "cell_type": "code",
   "execution_count": 18,
   "metadata": {},
   "outputs": [],
   "source": [
    "from sklearn.tree import DecisionTreeClassifier, plot_tree\n",
    "from sklearn.metrics import accuracy_score\n",
    "\n",
    "filenames = [\"dataTesting_X.csv\", \"dataTesting_Y.csv\", \"dataTraining_X.csv\", \"dataTraining_Y.csv\"]\n",
    "\n",
    "testing_x, testing_y, training_x, training_y = list(map(lambda f : pd.read_csv(f, header=None), filenames))"
   ]
  },
  {
   "cell_type": "code",
   "execution_count": 19,
   "metadata": {},
   "outputs": [
    {
     "name": "stdout",
     "output_type": "stream",
     "text": [
      "Training was mostly 0, predicting that for baseline\n",
      "Baseline training accuracy = 0.5943661971830986\n",
      "Baseline testing accuracy = 0.6949152542372882\n"
     ]
    }
   ],
   "source": [
    "mostly_1 = training_y.sum()[0] / len(training_y) >= 0.5\n",
    "pred_baseline_value = 1 if mostly_1 else 0\n",
    "print(f'Training was mostly {pred_baseline_value}, predicting that for baseline')\n",
    "\n",
    "baseline_accuracy_training = accuracy_score(training_y, np.repeat(pred_baseline_value, len(training_y)))\n",
    "baseline_accuracy_testing = accuracy_score(testing_y, np.repeat(pred_baseline_value, len(testing_y)))\n",
    "\n",
    "print(f'Baseline training accuracy = {baseline_accuracy_training}')\n",
    "print(f'Baseline testing accuracy = {baseline_accuracy_testing}')"
   ]
  },
  {
   "cell_type": "markdown",
   "metadata": {},
   "source": [
    "### (b)"
   ]
  },
  {
   "cell_type": "code",
   "execution_count": 20,
   "metadata": {},
   "outputs": [
    {
     "data": {
      "image/png": "[encoded data removed]",
      "text/plain": [
       "<Figure size 864x648 with 1 Axes>"
      ]
     },
     "metadata": {
      "needs_background": "light"
     },
     "output_type": "display_data"
    }
   ],
   "source": [
    "decision_tree = DecisionTreeClassifier(criterion = 'entropy')\n",
    "\n",
    "# Fit with training data\n",
    "decision_tree.fit(training_x, training_y)\n",
    "\n",
    "plt.figure(figsize=(12, 9))\n",
    "plot_tree(decision_tree, filled=True)\n",
    "plt.show()"
   ]
  },
  {
   "cell_type": "code",
   "execution_count": 21,
   "metadata": {},
   "outputs": [
    {
     "name": "stdout",
     "output_type": "stream",
     "text": [
      "Decision tree training accuracy = 0.9816901408450704\n",
      "Decision tree testing accuracy = 0.7853107344632768\n"
     ]
    }
   ],
   "source": [
    "# Resulting tree looks quite complex\n",
    "\n",
    "training_y_pred = decision_tree.predict(training_x)\n",
    "testing_y_pred = decision_tree.predict(testing_x)\n",
    "\n",
    "accuracy_training = accuracy_score(training_y, training_y_pred)\n",
    "accuracy_testing = accuracy_score(testing_y, testing_y_pred)\n",
    "\n",
    "print(f'Decision tree training accuracy = {accuracy_training}')\n",
    "print(f'Decision tree testing accuracy = {accuracy_testing}')"
   ]
  },
  {
   "cell_type": "markdown",
   "metadata": {},
   "source": [
    "Performs better than baseline! 78% accuray on testing data!"
   ]
  }
 ],
 "metadata": {
  "kernelspec": {
   "display_name": "Python 3",
   "language": "python",
   "name": "python3"
  },
  "language_info": {
   "codemirror_mode": {
    "name": "ipython",
    "version": 3
   },
   "file_extension": ".py",
   "mimetype": "text/x-python",
   "name": "python",
   "nbconvert_exporter": "python",
   "pygments_lexer": "ipython3",
   "version": "3.7.4"
  }
 },
 "nbformat": 4,
 "nbformat_minor": 4
}
