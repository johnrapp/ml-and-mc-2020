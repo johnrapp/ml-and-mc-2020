{
 "cells": [
  {
   "cell_type": "markdown",
   "metadata": {},
   "source": [
    "    John Rapp Farnes | 405461225\n",
    "\n",
    "#"
   ]
  },
  {
   "cell_type": "markdown",
   "metadata": {},
   "source": [
    "By the definition of Kernel, we have that $K(x,y)=\\varphi(x)^T\\varphi(y)$ for some function $\\varphi$. As such\n",
    "\n",
    "$$\n",
    "\\begin{aligned}\n",
    "&K(x_1, x_2)^2 - K(x_1, x_1)K(x_2, x_2) \\\\\n",
    "&=\\underbrace{\\varphi(x_1)^T\\varphi(x_2)}_{=(\\varphi(x_1)^T\\varphi(x_2))^T}\\cdot\\varphi(x_1)^T\\varphi(x_2) -\\varphi(x_1)^T\\varphi(x_1)\\cdot\\varphi(x_2)^T\\varphi(x_2)\\\\\n",
    "&=|\\varphi(x_1)^T\\varphi(x_2)|^2 -\\left\\lVert\\varphi(x_1)\\right\\rVert^2\\left\\lVert\\varphi(x_2)\\right\\rVert^2\n",
    "\\end{aligned}\n",
    "$$"
   ]
  },
  {
   "cell_type": "markdown",
   "metadata": {},
   "source": [
    "By the Cauchy-Schwartz inequality we have that\n",
    "$$\n",
    "\\begin{aligned}\n",
    "|u^Tv|^2-\\left\\lVert u\\right\\rVert^2\\left\\lVert v\\right\\rVert^2\\le0\n",
    "\\end{aligned}\n",
    "$$"
   ]
  },
  {
   "cell_type": "markdown",
   "metadata": {},
   "source": [
    "for any vectors $u$ and $v$. Letting $u=\\varphi(x_1)$ and $v=\\varphi(x_2)$, we have that\n",
    "\n",
    "$$\n",
    "K(x_1, x_2)^2 \\le K(x_1, x_1)K(x_2, x_2)\n",
    "$$"
   ]
  },
  {
   "cell_type": "markdown",
   "metadata": {},
   "source": [
    "\\newpage\n",
    "\n",
    "#\n",
    "\n",
    "We have that $K$ valid kernel $\\Leftrightarrow$ $K$ positive semi-definite $\\Leftrightarrow x^TKx\\ge0\\:\\forall x\\ne0$\n"
   ]
  },
  {
   "cell_type": "markdown",
   "metadata": {},
   "source": [
    "## (a)\n",
    "\n",
    "Hence, we have that\n",
    "$$\n",
    "\\begin{aligned}\n",
    "x^TK(x,x')x&=x^T(K_1(x,x')+K_2(x,x'))x \\\\\n",
    "&=\\underbrace{x^TK_1(x,x')x}_{\\ge0}+\\underbrace{x^TK_2(x,x')x}_{\\ge0}\\\\\n",
    "&\\ge0 \\implies K \\text{ valid kernel}\n",
    "\\end{aligned}\n",
    "$$"
   ]
  },
  {
   "cell_type": "markdown",
   "metadata": {},
   "source": [
    "## (b)\n",
    "\n",
    "We have that\n",
    "$$\n",
    "\\begin{aligned}\n",
    "x^TKx&=x^T(K_1K_2)x \\\\\n",
    "&=\\sum_{i=1}^N\\sum_{j=1}^N x_i \\varphi_1(x_i)^T\\varphi_1(x_j)\\varphi_2(x_i)^T\\varphi_2(x_j) x_j \\\\\n",
    "&=\\sum_{i=1}^N\\sum_{j=1}^N x_i \\sum_{k=1}^N[\\varphi_1^{(k)}(x_i)\\varphi_1^{(k)}(x_j)\\varphi_2^{(k)}(x_i)\\varphi_2^{(k)}(x_j)] x_j \\\\\n",
    "&=\\sum_{k=1}^N\\sum_{i=1}^N\\sum_{j=1}^N x_i \\varphi_1^{(k)}(x_i)\\varphi_1^{(k)}(x_j)\\varphi_2^{(k)}(x_i)\\varphi_2^{(k)}(x_j) x_j \\\\\n",
    "&=\\sum_{k=1}^N\\sum_{i=1}^N\\underbrace{[x_i \\varphi_1^{(k)}(x_i)\\varphi_2^{(k)}(x_i)]^2}_{\\ge0}  \\\\\n",
    "&\\ge0 \\implies K \\text{ valid kernel}\n",
    "\\end{aligned}\n",
    "$$"
   ]
  },
  {
   "cell_type": "markdown",
   "metadata": {},
   "source": [
    "## (c)\n",
    "\n",
    "For a given matrix $X$, we have $\\exp{(X)}=\\sum_{k=0}^\\infty \\frac{1}{k!}X^k$\n"
   ]
  },
  {
   "cell_type": "markdown",
   "metadata": {},
   "source": [
    "Further we have that any scalar $a\\ge0$ is positive semi-definite, as\n",
    "\n",
    "$$\n",
    "x^Tax=ax^Tx=\\underbrace{a}_{\\ge0}\\underbrace{|x|^2}_{\\ge0}\\ge0\n",
    "$$"
   ]
  },
  {
   "cell_type": "markdown",
   "metadata": {},
   "source": [
    "As such, $exp{(K_1)}$ is a sum of matrices $\\frac{1}{k!}K_1^k$, which are products of positive semi-definite matrices (as $\\frac{1}{k!}\\ge0\\:\\forall k\\in\\mathbb{Z}$ and $K_1$ is PSD), and is therefore positive semi-definite."
   ]
  },
  {
   "cell_type": "markdown",
   "metadata": {},
   "source": [
    "\\newpage\n",
    "\n",
    "# \n",
    "\n",
    "By solving $\\frac{\\partial L}{\\partial w}=0$ when constructing the dual problem (lecture 8, the \"soft\" term does not change the result), we obtained\n",
    "$$w=\\sum_{m\\in S}\\alpha_m y^{(m)}x^{(m)}$$"
   ]
  },
  {
   "cell_type": "markdown",
   "metadata": {},
   "source": [
    "We know from the problem formulation that vectors $x^{(n)}$ on the margin satisfy $w^Tx^{(n)}+b$ = $\\pm1$, depending on their label. The points on the margin are those with $\\epsilon_n=0$ and $\\alpha_n>0$. By $\\beta_n\\epsilon_n=0$, we have $\\beta_n>0$ at such a point, and we therefore have by $C-\\alpha_n-\\beta_n=0$ that $0<\\alpha_n<C \\implies n\\in M$. As such, we have:\n",
    "\n",
    "$$\n",
    "w^Tx^{(n)}+b=y^{(n)} \\Leftrightarrow \\\\\n",
    "b=y^{(n)}-w^Tx^{(n)} \\\\\n",
    "\\forall n\\in M\n",
    "$$"
   ]
  },
  {
   "cell_type": "markdown",
   "metadata": {},
   "source": [
    "As shown in lecture, rather than obtaining $b$ for a single vector, a more numerically stable result is achieved by computing $b$ as the average of these equations, as such:\n",
    "\n",
    "$$\n",
    "\\begin{aligned}\n",
    "b &= \\frac{1}{N_M}\\sum_{n\\in M}[y^{(n)}-w^Tx^{(n)}]\\\\\n",
    "&=\\frac{1}{N_M}\\sum_{n\\in M}[y^{(n)}-(\\sum_{m\\in S}\\alpha_m y^{(m)}x^{(m)})^Tx^{(n)}]\\\\\n",
    "&=\\frac{1}{N_M}\\sum_{n\\in M}[y^{(n)}-\\sum_{m\\in S}\\alpha_m y^{(m)}\\langle x^{(n)},x^{(m)}\\rangle]\n",
    "\\end{aligned}\n",
    "$$\n",
    "\n"
   ]
  },
  {
   "cell_type": "markdown",
   "metadata": {},
   "source": [
    "\\newpage\n",
    "\n",
    "#\n",
    "\n",
    "## (a)"
   ]
  },
  {
   "cell_type": "markdown",
   "metadata": {},
   "source": [
    "We have, using Bayes' rule:\n",
    "\n",
    "$$\n",
    "\\begin{aligned}\n",
    "P(A=k|C=0)=\\frac{P(A=k,C=0)}{P(C=0)}\n",
    "\\end{aligned}\n",
    "$$\n",
    "\n",
    "I will calculate these probabilities in python:\n",
    "\n",
    "### $P(A|C=0)$"
   ]
  },
  {
   "cell_type": "code",
   "execution_count": 1,
   "metadata": {},
   "outputs": [
    {
     "name": "stdout",
     "output_type": "stream",
     "text": [
      "P_A_0_C_0=0.3\n",
      "P_A_1_C_0=0.7000000000000002\n"
     ]
    }
   ],
   "source": [
    "P_C_0 = .096+.024+.224+.056\n",
    "\n",
    "P_A_0C_0 = .096+.024\n",
    "P_A_1C_0 = .224+.056\n",
    "\n",
    "P_A_0_C_0 = P_A_0C_0 / P_C_0\n",
    "P_A_1_C_0 = P_A_1C_0 / P_C_0\n",
    "\n",
    "print(f'P_A_0_C_0={P_A_0_C_0}')\n",
    "print(f'P_A_1_C_0={P_A_1_C_0}')"
   ]
  },
  {
   "cell_type": "markdown",
   "metadata": {},
   "source": [
    "$$\n",
    "\\therefore\\\\\n",
    "P(A=0|C=0)=0.3,\n",
    "P(A=1|C=0)=0.7\n",
    "$$"
   ]
  },
  {
   "cell_type": "markdown",
   "metadata": {},
   "source": [
    "### $P(B|C=0)$\n",
    "We can use the same formula as for $P(A|C=0)$"
   ]
  },
  {
   "cell_type": "code",
   "execution_count": 2,
   "metadata": {},
   "outputs": [
    {
     "name": "stdout",
     "output_type": "stream",
     "text": [
      "P_B_0_C_0=0.8\n",
      "P_B_1_C_0=0.2\n"
     ]
    }
   ],
   "source": [
    "P_B_0C_0 = .096+.224\n",
    "P_B_1C_0 = .024+.056\n",
    "\n",
    "P_B_0_C_0 = P_B_0C_0 / P_C_0\n",
    "P_B_1_C_0 = P_B_1C_0 / P_C_0\n",
    "\n",
    "print(f'P_B_0_C_0={P_B_0_C_0}')\n",
    "print(f'P_B_1_C_0={P_B_1_C_0}')"
   ]
  },
  {
   "cell_type": "markdown",
   "metadata": {},
   "source": [
    "$$\n",
    "\\therefore\\\\\n",
    "P(B=0|C=0)=0.8,\n",
    "P(B=1|C=0)=0.2\n",
    "$$"
   ]
  },
  {
   "cell_type": "markdown",
   "metadata": {},
   "source": [
    "### $P(A,B|C=0)$\n",
    "We have:\n",
    "\n",
    "$$\n",
    "\\begin{aligned}\n",
    "&P(A=i,B=j|C=0)\\\\\n",
    "&=P(A=i|C=0)P(B=j|A=i,C=0)\\\\\n",
    "&=P(A=i|C=0)\\frac{P(A=i,B=j,C=0)}{P(A=i,C=0)}\\\\\n",
    "\\end{aligned}\n",
    "$$\n",
    "\n",
    "Which gives us four combinations $i\\in\\{0,1\\}$,$j\\in\\{0,1\\}$"
   ]
  },
  {
   "cell_type": "code",
   "execution_count": 3,
   "metadata": {},
   "outputs": [
    {
     "name": "stdout",
     "output_type": "stream",
     "text": [
      "P_A_0_B_0_C_0=0.24\n",
      "P_A_1_B_0_C_0=0.5600000000000002\n",
      "P_A_0_B_1_C_0=0.06\n",
      "P_A_1_B_1_C_0=0.14000000000000004\n"
     ]
    }
   ],
   "source": [
    "P_A_0B_0C_0 = .096\n",
    "P_A_0_B_0_C_0 = P_A_0_C_0 * P_A_0B_0C_0 / P_A_0C_0\n",
    "\n",
    "P_A_1B_0C_0 = .224\n",
    "P_A_1_B_0_C_0 = P_A_1_C_0 * P_A_1B_0C_0 / P_A_1C_0\n",
    "\n",
    "P_A_0B_1C_0 = .024\n",
    "P_A_0_B_1_C_0 = P_A_0_C_0 * P_A_0B_1C_0 / P_A_0C_0\n",
    "\n",
    "P_A_1B_1C_0 = .056\n",
    "P_A_1_B_1_C_0 = P_A_1_C_0 * P_A_1B_1C_0 / P_A_1C_0\n",
    "\n",
    "print(f'P_A_0_B_0_C_0={P_A_0_B_0_C_0}')\n",
    "print(f'P_A_1_B_0_C_0={P_A_1_B_0_C_0}')\n",
    "print(f'P_A_0_B_1_C_0={P_A_0_B_1_C_0}')\n",
    "print(f'P_A_1_B_1_C_0={P_A_1_B_1_C_0}')"
   ]
  },
  {
   "cell_type": "markdown",
   "metadata": {},
   "source": [
    "$$\n",
    "\\therefore\\\\\n",
    "\\begin{aligned}\n",
    "P(A=0,B=0|C=0)&=0.24\\\\\n",
    "P(A=1,B=0|C=0)&=0.56\\\\\n",
    "P(A=0,B=1|C=0)&=0.06\\\\\n",
    "P(A=1,B=1|C=0)&=0.14\n",
    "\\end{aligned}\n",
    "$$"
   ]
  },
  {
   "cell_type": "markdown",
   "metadata": {},
   "source": [
    "\\newpage\n",
    "\n",
    "## (b)\n",
    "### $P(A|C=1)$"
   ]
  },
  {
   "cell_type": "code",
   "execution_count": 4,
   "metadata": {},
   "outputs": [
    {
     "name": "stdout",
     "output_type": "stream",
     "text": [
      "P_A_0_C_1=0.5\n",
      "P_A_1_C_1=0.5\n"
     ]
    }
   ],
   "source": [
    "P_C_1 = .27+.03+.27+.03\n",
    "\n",
    "P_A_0C_1 = .27+.03\n",
    "P_A_1C_1 = .27+.03\n",
    "\n",
    "P_A_0_C_1 = P_A_0C_1 / P_C_1\n",
    "P_A_1_C_1 = P_A_1C_1 / P_C_1\n",
    "\n",
    "print(f'P_A_0_C_1={P_A_0_C_1}')\n",
    "print(f'P_A_1_C_1={P_A_1_C_1}')"
   ]
  },
  {
   "cell_type": "markdown",
   "metadata": {},
   "source": [
    "### $P(B|C=1)$"
   ]
  },
  {
   "cell_type": "code",
   "execution_count": 5,
   "metadata": {},
   "outputs": [
    {
     "name": "stdout",
     "output_type": "stream",
     "text": [
      "P_B_0_C_1=0.8999999999999999\n",
      "P_B_1_C_1=0.09999999999999998\n"
     ]
    }
   ],
   "source": [
    "P_B_0C_1 = .27+.27\n",
    "P_B_1C_1 = .03+.03\n",
    "\n",
    "P_B_0_C_1 = P_B_0C_1 / P_C_1\n",
    "P_B_1_C_1 = P_B_1C_1 / P_C_1\n",
    "\n",
    "print(f'P_B_0_C_1={P_B_0_C_1}')\n",
    "print(f'P_B_1_C_1={P_B_1_C_1}')"
   ]
  },
  {
   "cell_type": "markdown",
   "metadata": {},
   "source": [
    "$$\n",
    "\\therefore\\\\\n",
    "P(B=0|C=1)=0.9,P(B=1|C=1)=0.1\n",
    "$$"
   ]
  },
  {
   "cell_type": "markdown",
   "metadata": {},
   "source": [
    "### $P(A,B|C=1)$"
   ]
  },
  {
   "cell_type": "code",
   "execution_count": 6,
   "metadata": {},
   "outputs": [
    {
     "name": "stdout",
     "output_type": "stream",
     "text": [
      "P_A_0_B_0_C_1=0.44999999999999996\n",
      "P_A_1_B_0_C_1=0.44999999999999996\n",
      "P_A_0_B_1_C_1=0.04999999999999999\n",
      "P_A_1_B_1_C_1=0.04999999999999999\n"
     ]
    }
   ],
   "source": [
    "P_A_0B_0C_1 = .27\n",
    "P_A_0_B_0_C_1 = P_A_0_C_1 * P_A_0B_0C_1 / P_A_0C_1\n",
    "\n",
    "P_A_1B_0C_1 = .27\n",
    "P_A_1_B_0_C_1 = P_A_1_C_1 * P_A_1B_0C_1 / P_A_1C_1\n",
    "\n",
    "P_A_0B_1C_1 = .03\n",
    "P_A_0_B_1_C_1 = P_A_0_C_1 * P_A_0B_1C_1 / P_A_0C_1\n",
    "\n",
    "P_A_1B_1C_1 = .03\n",
    "P_A_1_B_1_C_1 = P_A_1_C_1 * P_A_1B_1C_1 / P_A_1C_1\n",
    "\n",
    "print(f'P_A_0_B_0_C_1={P_A_0_B_0_C_1}')\n",
    "print(f'P_A_1_B_0_C_1={P_A_1_B_0_C_1}')\n",
    "print(f'P_A_0_B_1_C_1={P_A_0_B_1_C_1}')\n",
    "print(f'P_A_1_B_1_C_1={P_A_1_B_1_C_1}')"
   ]
  },
  {
   "cell_type": "markdown",
   "metadata": {},
   "source": [
    "$$\n",
    "\\therefore\\\\\n",
    "\\begin{aligned}\n",
    "P(A=0,B=0|C=1)=0.45\\\\\n",
    "P(A=1,B=0|C=1)=0.45\\\\\n",
    "P(A=0,B=1|C=1)=0.05\\\\\n",
    "P(A=1,B=1|C=1)=0.05\n",
    "\\end{aligned}\n",
    "$$"
   ]
  },
  {
   "cell_type": "markdown",
   "metadata": {},
   "source": [
    "\\newpage\n",
    "\n",
    "## (c)"
   ]
  },
  {
   "cell_type": "markdown",
   "metadata": {},
   "source": [
    "We have \n",
    "$$\n",
    "\\begin{aligned}\n",
    "(A\\perp\\!\\!\\!\\perp B) | C \\Leftrightarrow P(A,B|C)&=P(A|C)P(B|C) &&\\Leftrightarrow \\\\\n",
    "P(A=i,B=j|C=k)&=P(A=i|C=k)P(B=j|C=k) \\\\\n",
    "&\\forall i\\in\\{0,1\\},j\\in\\{0,1\\},k\\in\\{0,1\\}\n",
    "\\end{aligned}\n",
    "$$\n",
    "\n",
    "which we can show by testing all 8 combinations:"
   ]
  },
  {
   "cell_type": "code",
   "execution_count": 16,
   "metadata": {},
   "outputs": [
    {
     "data": {
      "text/plain": [
       "[0.0, 0.0, 0.0, 0.0, 0.0, 0.0, 0.0, 0.0]"
      ]
     },
     "execution_count": 16,
     "metadata": {},
     "output_type": "execute_result"
    }
   ],
   "source": [
    "[P_A_0_B_0_C_0-P_A_0_C_0*P_B_0_C_0,\n",
    "P_A_1_B_0_C_0-P_A_1_C_0*P_B_0_C_0,\n",
    "P_A_0_B_1_C_0-P_A_0_C_0*P_B_1_C_0,\n",
    "P_A_1_B_1_C_0-P_A_1_C_0*P_B_1_C_0,\n",
    "P_A_0_B_0_C_1-P_A_0_C_1*P_B_0_C_1,\n",
    "P_A_1_B_0_C_1-P_A_1_C_1*P_B_0_C_1,\n",
    "P_A_0_B_1_C_1-P_A_0_C_1*P_B_1_C_1,\n",
    "P_A_1_B_1_C_1-P_A_1_C_1*P_B_1_C_1]"
   ]
  },
  {
   "cell_type": "markdown",
   "metadata": {},
   "source": [
    "The condition is satisfied for all combinations, hence $(A\\perp\\!\\!\\!\\perp B) | C$."
   ]
  },
  {
   "cell_type": "markdown",
   "metadata": {},
   "source": [
    "\\newpage\n",
    "\n",
    "## (d)"
   ]
  },
  {
   "cell_type": "code",
   "execution_count": 8,
   "metadata": {},
   "outputs": [
    {
     "name": "stdout",
     "output_type": "stream",
     "text": [
      "P_A_0=0.42\n",
      "P_A_1=0.58\n",
      "P_B_0=0.86\n",
      "P_B_1=0.14\n"
     ]
    }
   ],
   "source": [
    "P_A_0 = .096+.024+.27+.03\n",
    "P_A_1 = .224+.056+.27+.03\n",
    "P_B_0 = .096+.224+.27+.27\n",
    "P_B_1 = .024+.056+.03+.03\n",
    "\n",
    "print(f'P_A_0={P_A_0-.00000000000000004}') # Floating point errors\n",
    "print(f'P_A_1={P_A_1-.0000000000000001}')\n",
    "print(f'P_B_0={P_B_0-.0000000000000001}')\n",
    "print(f'P_B_1={P_B_1}')"
   ]
  },
  {
   "cell_type": "code",
   "execution_count": 9,
   "metadata": {},
   "outputs": [
    {
     "name": "stdout",
     "output_type": "stream",
     "text": [
      "P_A_0_B_0=0.366\n",
      "P_A_1_B_0=0.494\n",
      "P_A_0_B_1=0.054\n",
      "P_A_1_B_1=0.086\n"
     ]
    }
   ],
   "source": [
    "P_A_0_B_0 = .096+.27\n",
    "P_A_1_B_0 = .224+.27\n",
    "P_A_0_B_1 = .024+.03\n",
    "P_A_1_B_1 = .056+.03\n",
    "\n",
    "print(f'P_A_0_B_0={P_A_0_B_0}')\n",
    "print(f'P_A_1_B_0={P_A_1_B_0}')\n",
    "print(f'P_A_0_B_1={P_A_0_B_1}')\n",
    "print(f'P_A_1_B_1={P_A_1_B_1}')"
   ]
  },
  {
   "cell_type": "markdown",
   "metadata": {},
   "source": [
    "\\newpage\n",
    "\n",
    "## (e)\n",
    "\n",
    "$A$ independent of $B \\Leftrightarrow P(A=i,B=j)=P(A=i)P(B=j)\\:\\forall i\\in\\{0,1\\},j\\in\\{0,1\\}$. We can explore this by trying all four combinations:"
   ]
  },
  {
   "cell_type": "code",
   "execution_count": 18,
   "metadata": {},
   "outputs": [
    {
     "data": {
      "text/plain": [
       "[0.0047999999999999154,\n",
       " -0.004800000000000013,\n",
       " -0.0048000000000001375,\n",
       " 0.004799999999999971]"
      ]
     },
     "execution_count": 18,
     "metadata": {},
     "output_type": "execute_result"
    }
   ],
   "source": [
    "[P_A_0_B_0 - P_A_0*P_B_0,\n",
    "P_A_0_B_1 - P_A_0*P_B_1,\n",
    "P_A_1_B_0 - P_A_1*P_B_0,\n",
    "P_A_1_B_1 - P_A_1*P_B_1]"
   ]
  },
  {
   "cell_type": "markdown",
   "metadata": {},
   "source": [
    "As the probabilies are not equal, $A$ and $B$ are not independent."
   ]
  },
  {
   "cell_type": "markdown",
   "metadata": {},
   "source": [
    "\\newpage\n",
    "\n",
    "#\n",
    "\n",
    "## (a)"
   ]
  },
  {
   "cell_type": "markdown",
   "metadata": {},
   "source": [
    "From lecture, we have that ML-estimate of the parameters $\\theta$ are given by:\n",
    "\n",
    "$$\n",
    "\\theta_0=N_1/N\n",
    "$$\n",
    "\n",
    "$$\n",
    "\\begin{aligned}\n",
    "\\theta_{j,0}&=\\frac{\\sum_{i=1}^N \\mathbb{1}[X_{j,i}=1,Y_i=0]}{\\sum_{i=1}^N\\mathbb{1}[Y_i=0]}\\\\\n",
    "\\theta_{j,1}&=\\frac{\\sum_{i=1}^N \\mathbb{1}[X_{j,i}=1,Y_i=1]}{\\sum_{i=1}^N\\mathbb{1}[Y_i=1]}\n",
    "\\end{aligned}\n",
    "$$\n",
    "\n",
    "I will calculate these in Python:"
   ]
  },
  {
   "cell_type": "code",
   "execution_count": 11,
   "metadata": {},
   "outputs": [],
   "source": [
    "import pandas as pd\n",
    "import numpy as np\n",
    "\n",
    "table = {\n",
    "    'O': [0,1,0,1,1,1,1,0],\n",
    "    'B': [0,1,1,0,1,0,1,0],\n",
    "    'C': [0,0,1,0,1,1,0,1],\n",
    "    'A': [1,0,1,1,0,0,1,1],\n",
    "    'G': [1,0,1,1,0,1,1,1]\n",
    "}\n",
    "table = pd.DataFrame(data=table)"
   ]
  },
  {
   "cell_type": "code",
   "execution_count": 12,
   "metadata": {},
   "outputs": [
    {
     "name": "stdout",
     "output_type": "stream",
     "text": [
      "theta_0=0.75\n",
      "theta_i,0=[1.  1.  0.5 0. ]\n",
      "theta_i,1=[0.5        0.33333333 0.5        0.83333333]\n"
     ]
    }
   ],
   "source": [
    "y = np.array(table['G'])\n",
    "X = np.array(table[['O','B','C','A']])\n",
    "k = X.shape[1]\n",
    "\n",
    "N_1 = sum(y)\n",
    "N = y.shape[0]\n",
    "\n",
    "theta_0 = N_1 / N\n",
    "\n",
    "thetas = np.empty([k, 2])\n",
    "\n",
    "for i in range(k):\n",
    "    thetas[i,0] = sum((X.T[i] == 1) & (y == 0)) / sum(y == 0)\n",
    "    thetas[i,1] = sum((X.T[i] == 1) & (y == 1)) / sum(y == 1)\n",
    "\n",
    "print(f'theta_0={theta_0}')\n",
    "print(f'theta_i,0={thetas.T[0]}')\n",
    "print(f'theta_i,1={thetas.T[1]}')"
   ]
  },
  {
   "cell_type": "markdown",
   "metadata": {},
   "source": [
    "## (b)\n",
    "\n",
    "By the assumption of conditional independence, we have\n",
    "$$\n",
    "\\begin{aligned}\n",
    "P(G_i)P(O_i,B_i,C_i,A_i|G_i)&=P(G_i)P(O_i|G_i)P(B_i|G_i)P(C_i|G_i)P(A_i|G_i)\\\\\n",
    "&=\\theta_0^{\\mathbb{1}(G_i=1)}(1-\\theta_0)^{\\mathbb{1}(G_i=0)}\\prod_{j=1}^N\\theta_{j,1}^{\\mathbb{1}(X_{j,i}=1)}(1-\\theta_{j,0})^{\\mathbb{1}(X_{j,i}=0)}\n",
    "\\end{aligned}\n",
    "$$"
   ]
  },
  {
   "cell_type": "code",
   "execution_count": 13,
   "metadata": {},
   "outputs": [
    {
     "name": "stdout",
     "output_type": "stream",
     "text": [
      "Example #9, P(y=0|X)=0.0\n",
      "Example #9, P(y=1|X)=0.052083333333333336\n",
      "Example #10, P(y=0|X)=0.0\n",
      "Example #10, P(y=1|X)=0.052083333333333336\n"
     ]
    }
   ],
   "source": [
    "X = np.array([\n",
    "    [0,1,0,1], #Example 9\n",
    "    [1,1,1,1]  #Example 10\n",
    "])\n",
    "\n",
    "for e in range(X.shape[0]):\n",
    "    for y in [0, 1]:\n",
    "        P = y*theta_0 + (1-y)*(1-theta_0)\n",
    "        for j in range(k):\n",
    "            P = P * (X[e, j]*thetas[j, y] + (1-X[e, j])*(1-thetas[j, y]))\n",
    "        print(f'Example #{9+e}, P(y={y}|X)={P}')"
   ]
  },
  {
   "cell_type": "markdown",
   "metadata": {},
   "source": [
    "Since $P(Y=1|X)>P(Y=0|X)$ for both examples, we would classify both as good restaurants."
   ]
  },
  {
   "cell_type": "markdown",
   "metadata": {},
   "source": [
    "\\newpage\n",
    "\n",
    "## (c)"
   ]
  },
  {
   "cell_type": "code",
   "execution_count": 14,
   "metadata": {},
   "outputs": [
    {
     "name": "stdout",
     "output_type": "stream",
     "text": [
      "theta_0=0.75\n",
      "theta_i,0=[0.75 0.75 0.5  0.25]\n",
      "theta_i,1=[0.5   0.375 0.5   0.75 ]\n"
     ]
    }
   ],
   "source": [
    "y = np.array(table['G'])\n",
    "X = np.array(table[['O','B','C','A']])\n",
    "k = X.shape[1]\n",
    "\n",
    "N_1 = sum(y)\n",
    "N = y.shape[0]\n",
    "\n",
    "theta_0 = N_1 / N\n",
    "\n",
    "thetas = np.empty([k, 2])\n",
    "\n",
    "for i in range(k):\n",
    "    thetas[i,0] = (sum((X.T[i] == 1) & (y == 0)) + 1) / (sum(y == 0) + 2)\n",
    "    thetas[i,1] = (sum((X.T[i] == 1) & (y == 1)) + 1) / (sum(y == 1) + 2)\n",
    "\n",
    "print(f'theta_0={theta_0}')\n",
    "print(f'theta_i,0={thetas.T[0]}')\n",
    "print(f'theta_i,1={thetas.T[1]}')"
   ]
  },
  {
   "cell_type": "markdown",
   "metadata": {},
   "source": [
    "No more $\\theta=0$!\n",
    "\n",
    "## (d)\n"
   ]
  },
  {
   "cell_type": "code",
   "execution_count": 15,
   "metadata": {},
   "outputs": [
    {
     "name": "stdout",
     "output_type": "stream",
     "text": [
      "Example #9, P(y=0|X)=0.005859375\n",
      "Example #9, P(y=1|X)=0.052734375\n",
      "Example #10, P(y=0|X)=0.017578125\n",
      "Example #10, P(y=1|X)=0.052734375\n"
     ]
    }
   ],
   "source": [
    "X = np.array([\n",
    "    [0,1,0,1], #9\n",
    "    [1,1,1,1]  #10\n",
    "])\n",
    "\n",
    "for e in range(X.shape[0]):\n",
    "    for y in [0, 1]:\n",
    "        P = y*theta_0 + (1-y)*(1-theta_0)\n",
    "        for j in range(k):\n",
    "            P = P * (X[e, j]*thetas[j, y] + (1-X[e, j])*(1-thetas[j, y]))\n",
    "        print(f'Example #{9+e}, P(y={y}|X)={P}')"
   ]
  },
  {
   "cell_type": "markdown",
   "metadata": {},
   "source": [
    "Since $P(Y=1|X)>P(Y=0|X)$ for both examples, we would again classify both as good restaurants."
   ]
  },
  {
   "cell_type": "markdown",
   "metadata": {},
   "source": [
    "\\newpage\n",
    "\n",
    "#\n",
    "\n",
    "## (a)"
   ]
  },
  {
   "cell_type": "markdown",
   "metadata": {},
   "source": [
    "Using the NB assumtion we have:\n",
    "$$\n",
    "\\begin{aligned}\n",
    "&P(x^{(1)},\\cdots, x^{(m)},y^{(1)},\\cdots, y^{(m)}) \\\\\n",
    "&= \\prod_{i=1}^N P(y^{(i)})P(x^{(i)}|y^{(i)})\\\\\n",
    "&= \\prod_{i=1}^N P(y^{(i)}) \\prod_{j=1}\\prod_{k=1}^s P(x_j^{(i)}=k|y^{(i)})\\\\\n",
    "&= \\prod_{i=1}^N \\theta_0^{\\mathbb{1}[y^{(i)}=1]}(1-\\theta_0)^{\\mathbb{1}[y^{(i)}=0]}\\prod_{j=1} \\underbrace{\\theta_{j,s|y}^{\\mathbb{1}[x^{(i)}=s]}}_{=1-\\sum_{k=1}^{s-1}\\theta_{j,k|y}}\\prod_{k=1}^{s-1} \\theta_{j,k|y}^{\\mathbb{1}[x^{(i)}=k]}\n",
    "\\end{aligned}\n",
    "$$"
   ]
  },
  {
   "cell_type": "markdown",
   "metadata": {},
   "source": [
    "\\newpage\n",
    "\n",
    "## (b)\n",
    "\n",
    "To simplify minimzation, we first take the $\\log$ likelihood. We then minimize by finding a stationary point $\\nabla P = 0$"
   ]
  },
  {
   "cell_type": "markdown",
   "metadata": {},
   "source": [
    "$$\n",
    "\\begin{aligned}\n",
    "&\\log{P(x^{(1)},\\cdots, x^{(m)},y^{(1)},\\cdots, y^{(m)})} \\\\\n",
    "&= \\log{\\Big[\\prod_{i=1}^N \\theta_0^{\\mathbb{1}[y^{(i)}=1]}(1-\\theta_0)^{\\mathbb{1}[y^{(i)}=0]}\\prod_{j=1} \\underbrace{\\theta_{j,s|y}^{\\mathbb{1}[x^{(i)}=s]}}_{=1-\\sum_{k=1}^{s-1}\\theta_{j,k|y}}\\prod_{k=1}^{s-1} \\theta_{j,k|y}^{\\mathbb{1}[x^{(i)}=k]}\\Big]} \\\\\n",
    "&= \\sum_{i=1}^N \\big[{\\mathbb{1}[y^{(i)}=1]}\\log{\\theta_0}+{\\mathbb{1}[y^{(i)}=0]}\\log{(1-\\theta_0)}\\big]+\\sum_{j=1} {\\mathbb{1}[x^{(i)}=s]}\\log{\\theta_{j,s|y}}+\\sum_{k=1}^{s-1} {\\mathbb{1}[x^{(i)}=k]}\\log{\\theta_{j,k|y}}\n",
    "\\end{aligned}\n",
    "$$"
   ]
  },
  {
   "cell_type": "markdown",
   "metadata": {},
   "source": [
    "For $\\theta_0$ we have \n",
    "$$\n",
    "\\begin{aligned}\n",
    "\\frac{\\partial \\log P}{\\partial \\theta_0}&=0 &\\Leftrightarrow \\\\\n",
    "\\frac{1}{\\theta_0}\\sum_{i=1}^N {\\mathbb{1}[y^{(i)}=1]}-\\frac{1}{1-\\theta_0}\\sum_{i=1}^N{\\mathbb{1}[y^{(i)}=0]}&=0 &\\Leftrightarrow \\\\\n",
    "\\theta_0\\underbrace{(\\sum_{i=1}^N {\\mathbb{1}[y^{(i)}=1]}+\\sum_{i=1}^N{\\mathbb{1}[y^{(i)}=0]})}_{=N}&=\\sum_{i=1}^N {\\mathbb{1}[y^{(i)}=1]} &\\Leftrightarrow \\\\\n",
    "\\theta_0&=\\frac{\\sum_{i=1}^N {\\mathbb{1}[y^{(i)}=1]}}{N}\n",
    "\\end{aligned}\n",
    "$$"
   ]
  },
  {
   "cell_type": "markdown",
   "metadata": {},
   "source": [
    "For $\\theta_{j,k|y},k=1,\\dots,s$ and $y_i=y$ we have \n",
    "$$\n",
    "\\begin{aligned}\n",
    "\\frac{\\partial \\log P}{\\partial \\theta_{j,k|y}}&=0 &\\Leftrightarrow \\\\\n",
    "\\frac{1}{\\theta_{j,k|y}}\\sum_{i=1}^N{\\mathbb{1}[x_j^{(i)}=k,y^{(i)}=y]}+\\frac{1}{1-\\theta_{j,k|y}}\\sum_{i=1}^N{\\mathbb{1}[x_j^{(i)}\\ne k,y^{(i)}=y]}&=0 &\\Leftrightarrow \\\\\n",
    "\\theta_{j,k|y}\\underbrace{(\\sum_{i=1}^N{\\mathbb{1}[x_j^{(i)}=k,y^{(i)}=y]}+\\sum_{i=1}^N{\\mathbb{1}[x_j^{(i)}\\ne k,y^{(i)}=y]})}_{\\sum_{i=1}^N{\\mathbb{1}[y^{(i)}=y]}}&=\\sum_{i=1}^N{\\mathbb{1}[x_j^{(i)}=k,y^{(i)}=y]}\n",
    "&\\Leftrightarrow \\\\\n",
    "\\theta_{j,k|y}&=\\frac{\\sum_{i=1}^N{\\mathbb{1}[x_j^{(i)}=k,y^{(i)}=y]}}{\\sum_{i=1}^N{\\mathbb{1}[y^{(i)}=y]}}\n",
    "\\end{aligned}\n",
    "$$"
   ]
  },
  {
   "cell_type": "markdown",
   "metadata": {},
   "source": [
    "$$\n",
    "\\begin{aligned}\n",
    "&\\therefore\\\\\n",
    "\\theta_0&=\\frac{\\sum_{i=1}^N {\\mathbb{1}[y^{(i)}=1]}}{N}\\\\\n",
    "\\theta_{j,k|y=0}&=\\frac{\\sum_{i=1}^N{\\mathbb{1}[x_j^{(i)}=k,y^{(i)}=0]}}{\\sum_{i=1}^N{\\mathbb{1}[y^{(i)}=0]}}\\\\\n",
    "\\theta_{j,k|y=1}&=\\frac{\\sum_{i=1}^N{\\mathbb{1}[x_j^{(i)}=k,y^{(i)}=1]}}{\\sum_{i=1}^N{\\mathbb{1}[y^{(i)}=1]}}\n",
    "\\end{aligned}\n",
    "$$\n",
    "\n",
    "The expression holds for all $k$, including $k=s$"
   ]
  },
  {
   "cell_type": "markdown",
   "metadata": {},
   "source": [
    "This means that the probability of a feature $j$ having $x_j^{(i)}=k$ for a given $k$ is proportional to the fraction of observations where $x_j^{(i)}=k$. This is weighted by the relative frequency of such observations with $y^{(i)}=y$ and observatons with $y^{(i)}=y$ in general in the data set.   "
   ]
  }
 ],
 "metadata": {
  "kernelspec": {
   "display_name": "Python 3",
   "language": "python",
   "name": "python3"
  },
  "language_info": {
   "codemirror_mode": {
    "name": "ipython",
    "version": 3
   },
   "file_extension": ".py",
   "mimetype": "text/x-python",
   "name": "python",
   "nbconvert_exporter": "python",
   "pygments_lexer": "ipython3",
   "version": "3.7.4"
  }
 },
 "nbformat": 4,
 "nbformat_minor": 2
}
